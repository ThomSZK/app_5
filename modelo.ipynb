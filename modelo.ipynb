{
 "cells": [
  {
   "cell_type": "code",
   "execution_count": 5,
   "id": "e177bc16",
   "metadata": {},
   "outputs": [],
   "source": [
    "import pandas as pd\n",
    "import numpy as np\n",
    "from sklearn.model_selection import train_test_split\n",
    "from imblearn.pipeline import Pipeline\n",
    "from sklearn.preprocessing import StandardScaler\n",
    "from sklearn.metrics import classification_report\n",
    "from xgboost import XGBClassifier\n",
    "from lightgbm import LGBMClassifier\n",
    "from sklearn.preprocessing import LabelEncoder\n",
    "from sklearn.utils.class_weight import compute_sample_weight\n",
    "from imblearn.over_sampling import SMOTE\n",
    "from sklearn.model_selection import GridSearchCV\n",
    "from scipy.stats import randint, uniform\n",
    "from collections import Counter\n",
    "from sklearn.ensemble import RandomForestClassifier, StackingClassifier\n",
    "from sklearn.linear_model import LogisticRegression\n",
    "import joblib\n"
   ]
  },
  {
   "cell_type": "code",
   "execution_count": 6,
   "id": "c457dba3",
   "metadata": {},
   "outputs": [],
   "source": [
    "data = pd.read_csv('data/features/features.csv')"
   ]
  },
  {
   "cell_type": "code",
   "execution_count": 7,
   "id": "05eaf1b2",
   "metadata": {},
   "outputs": [],
   "source": [
    "data = data[['similaridade_cv_competencias','similaridade_cv_atividades','avaliador_idioma_ingles','avaliador_idioma_espanhol','situacao_candidado_avaliador']]"
   ]
  },
  {
   "cell_type": "code",
   "execution_count": 8,
   "id": "023dab8d",
   "metadata": {},
   "outputs": [
    {
     "name": "stderr",
     "output_type": "stream",
     "text": [
      "/tmp/ipykernel_673942/1987047533.py:2: FutureWarning: ChainedAssignmentError: behaviour will change in pandas 3.0!\n",
      "You are setting values through chained assignment. Currently this works in certain cases, but when using Copy-on-Write (which will become the default behaviour in pandas 3.0) this will never work to update the original DataFrame or Series, because the intermediate object on which we are setting values will behave as a copy.\n",
      "A typical example is when you are setting values in a column of a DataFrame, like:\n",
      "\n",
      "df[\"col\"][row_indexer] = value\n",
      "\n",
      "Use `df.loc[row_indexer, \"col\"] = values` instead, to perform the assignment in a single step and ensure this keeps updating the original `df`.\n",
      "\n",
      "See the caveats in the documentation: https://pandas.pydata.org/pandas-docs/stable/user_guide/indexing.html#returning-a-view-versus-a-copy\n",
      "\n",
      "  data['similaridade'].loc[data['similaridade_cv_atividades']>=data['similaridade_cv_atividades']] = data['similaridade_cv_atividades'].loc[data['similaridade_cv_atividades']>=data['similaridade_cv_atividades']]\n",
      "/tmp/ipykernel_673942/1987047533.py:2: SettingWithCopyWarning: \n",
      "A value is trying to be set on a copy of a slice from a DataFrame\n",
      "\n",
      "See the caveats in the documentation: https://pandas.pydata.org/pandas-docs/stable/user_guide/indexing.html#returning-a-view-versus-a-copy\n",
      "  data['similaridade'].loc[data['similaridade_cv_atividades']>=data['similaridade_cv_atividades']] = data['similaridade_cv_atividades'].loc[data['similaridade_cv_atividades']>=data['similaridade_cv_atividades']]\n",
      "/tmp/ipykernel_673942/1987047533.py:3: FutureWarning: ChainedAssignmentError: behaviour will change in pandas 3.0!\n",
      "You are setting values through chained assignment. Currently this works in certain cases, but when using Copy-on-Write (which will become the default behaviour in pandas 3.0) this will never work to update the original DataFrame or Series, because the intermediate object on which we are setting values will behave as a copy.\n",
      "A typical example is when you are setting values in a column of a DataFrame, like:\n",
      "\n",
      "df[\"col\"][row_indexer] = value\n",
      "\n",
      "Use `df.loc[row_indexer, \"col\"] = values` instead, to perform the assignment in a single step and ensure this keeps updating the original `df`.\n",
      "\n",
      "See the caveats in the documentation: https://pandas.pydata.org/pandas-docs/stable/user_guide/indexing.html#returning-a-view-versus-a-copy\n",
      "\n",
      "  data['similaridade'].loc[data['similaridade_cv_atividades']<data['similaridade_cv_atividades']] = data['similaridade_cv_atividades'].loc[data['similaridade_cv_atividades']<data['similaridade_cv_atividades']]\n",
      "/tmp/ipykernel_673942/1987047533.py:3: SettingWithCopyWarning: \n",
      "A value is trying to be set on a copy of a slice from a DataFrame\n",
      "\n",
      "See the caveats in the documentation: https://pandas.pydata.org/pandas-docs/stable/user_guide/indexing.html#returning-a-view-versus-a-copy\n",
      "  data['similaridade'].loc[data['similaridade_cv_atividades']<data['similaridade_cv_atividades']] = data['similaridade_cv_atividades'].loc[data['similaridade_cv_atividades']<data['similaridade_cv_atividades']]\n"
     ]
    }
   ],
   "source": [
    "data['similaridade'] = ''\n",
    "data['similaridade'].loc[data['similaridade_cv_atividades']>=data['similaridade_cv_atividades']] = data['similaridade_cv_atividades'].loc[data['similaridade_cv_atividades']>=data['similaridade_cv_atividades']]\n",
    "data['similaridade'].loc[data['similaridade_cv_atividades']<data['similaridade_cv_atividades']] = data['similaridade_cv_atividades'].loc[data['similaridade_cv_atividades']<data['similaridade_cv_atividades']]\n",
    "data['situacao_candidado_avaliador'] = pd.qcut(data['situacao_candidado_avaliador'], q=3, labels=['baixo', 'medio', 'alto'])\n",
    "balance = pd.concat([data.loc[data['situacao_candidado_avaliador'] == 'alto'].sample(n=1000, random_state=42), data.loc[data['situacao_candidado_avaliador'] == 'medio'].sample(n=1000, random_state=42), data.loc[data['situacao_candidado_avaliador'] == 'baixo'].sample(n=1000, random_state=42)])"
   ]
  },
  {
   "cell_type": "code",
   "execution_count": 9,
   "id": "b328017e",
   "metadata": {},
   "outputs": [],
   "source": [
    "X = balance[['similaridade','avaliador_idioma_ingles','avaliador_idioma_espanhol']]\n",
    "# y = pd.qcut(balance['situacao_candidado_avaliador'], q=3, labels=['baixo', 'medio', 'alto'])  \n",
    "y = balance['situacao_candidado_avaliador']\n",
    "le = LabelEncoder()\n",
    "y_encoded = le.fit_transform(y)\n",
    "X_train, X_test, y_train, y_test = train_test_split(X, y_encoded, test_size=0.2, random_state=42)\n",
    "# baixo = 1, medio = 2, alto = 0"
   ]
  },
  {
   "cell_type": "code",
   "execution_count": 10,
   "id": "e2a5665f",
   "metadata": {},
   "outputs": [
    {
     "data": {
      "text/plain": [
       "Counter({'alto': 1000, 'medio': 1000, 'baixo': 1000})"
      ]
     },
     "execution_count": 10,
     "metadata": {},
     "output_type": "execute_result"
    }
   ],
   "source": [
    "Counter(y)"
   ]
  },
  {
   "cell_type": "code",
   "execution_count": 217,
   "id": "5f007ec5",
   "metadata": {},
   "outputs": [],
   "source": [
    "# # Pipeline com XGBoost\n",
    "# pipeline_xgb = Pipeline([\n",
    "#     ('scaler', StandardScaler()),\n",
    "#     ('clf', XGBClassifier(use_label_encoder=False, eval_metric='mlogloss'))\n",
    "# ])\n",
    "\n",
    "# # Treinar\n",
    "# pipeline_xgb.fit(X_train, y_train)\n",
    "\n",
    "# # Avaliar\n",
    "# print(\"XGBoost Results:\")\n",
    "# y_pred_xgb = pipeline_xgb.predict(X_test)\n",
    "# print(classification_report(y_test, y_pred_xgb))"
   ]
  },
  {
   "cell_type": "code",
   "execution_count": 218,
   "id": "8b2961db",
   "metadata": {},
   "outputs": [],
   "source": [
    "# # Pipeline com LightGBM\n",
    "# pipeline_lgb = Pipeline([\n",
    "#     ('smote', SMOTE(random_state=42)),\n",
    "#     ('scaler', StandardScaler()),\n",
    "#     ('clf', LGBMClassifier(class_weight='balanced', random_state=42))\n",
    "# ])\n",
    "# param_grid = {\n",
    "#     'clf__n_estimators': [400],\n",
    "#     'clf__learning_rate': [0.1],\n",
    "#     'clf__max_depth': [15],\n",
    "# }\n",
    "# grid_search = GridSearchCV(\n",
    "#     estimator=pipeline_lgb,\n",
    "#     param_grid=param_grid,\n",
    "#     scoring='f1_macro',  \n",
    "#     cv=3,\n",
    "#     n_jobs=-1,\n",
    "#     verbose=2\n",
    "# )\n",
    "\n",
    "# # Treinar\n",
    "# grid_search.fit(X_train, y_train)\n",
    "\n",
    "# # Resultados\n",
    "# print(\"✅ Melhor combinação de hiperparâmetros:\")\n",
    "# print(grid_search.best_params_)\n",
    "\n",
    "# print(\"\\n📊 Avaliação no conjunto de teste:\")\n",
    "\n",
    "# y_pred = grid_search.predict(X_test)\n",
    "# print(classification_report(le.inverse_transform(y_test), le.inverse_transform(y_pred)))"
   ]
  },
  {
   "cell_type": "code",
   "execution_count": 11,
   "id": "5fa16eb9",
   "metadata": {},
   "outputs": [
    {
     "name": "stdout",
     "output_type": "stream",
     "text": [
      "              precision    recall  f1-score   support\n",
      "\n",
      "           0       0.42      0.37      0.39       217\n",
      "           1       0.36      0.39      0.38       186\n",
      "           2       0.38      0.39      0.39       197\n",
      "\n",
      "    accuracy                           0.39       600\n",
      "   macro avg       0.39      0.39      0.38       600\n",
      "weighted avg       0.39      0.39      0.39       600\n",
      "\n"
     ]
    }
   ],
   "source": [
    "pipeline_rf = Pipeline([\n",
    "    ('scaler', StandardScaler()),\n",
    "    ('clf', RandomForestClassifier(class_weight='balanced', random_state=42))\n",
    "])\n",
    "pipeline_rf.fit(X_train, y_train)\n",
    "print(classification_report(y_test, pipeline_rf.predict(X_test)))\n"
   ]
  },
  {
   "cell_type": "code",
   "execution_count": 12,
   "id": "8db590f7",
   "metadata": {},
   "outputs": [
    {
     "data": {
      "text/plain": [
       "Counter({np.int64(1): 814, np.int64(2): 803, np.int64(0): 783})"
      ]
     },
     "execution_count": 12,
     "metadata": {},
     "output_type": "execute_result"
    }
   ],
   "source": [
    "Counter(y_train)"
   ]
  },
  {
   "cell_type": "code",
   "execution_count": 229,
   "id": "7eab0a83",
   "metadata": {},
   "outputs": [
    {
     "name": "stdout",
     "output_type": "stream",
     "text": [
      "Fitting 5 folds for each of 1 candidates, totalling 5 fits\n",
      "[CV] END clf__max_depth=20, clf__min_samples_leaf=1, clf__min_samples_split=2, clf__n_estimators=250; total time=   0.6s\n",
      "[CV] END clf__max_depth=20, clf__min_samples_leaf=1, clf__min_samples_split=2, clf__n_estimators=250; total time=   0.6s\n",
      "[CV] END clf__max_depth=20, clf__min_samples_leaf=1, clf__min_samples_split=2, clf__n_estimators=250; total time=   0.6s\n",
      "[CV] END clf__max_depth=20, clf__min_samples_leaf=1, clf__min_samples_split=2, clf__n_estimators=250; total time=   0.7s\n",
      "[CV] END clf__max_depth=20, clf__min_samples_leaf=1, clf__min_samples_split=2, clf__n_estimators=250; total time=   0.7s\n",
      "Melhores parâmetros: {'clf__max_depth': 20, 'clf__min_samples_leaf': 1, 'clf__min_samples_split': 2, 'clf__n_estimators': 250}\n",
      "\n",
      "Relatório de classificação no teste:\n",
      "              precision    recall  f1-score   support\n",
      "\n",
      "           0       0.43      0.39      0.41       217\n",
      "           1       0.37      0.39      0.38       186\n",
      "           2       0.38      0.39      0.39       197\n",
      "\n",
      "    accuracy                           0.39       600\n",
      "   macro avg       0.39      0.39      0.39       600\n",
      "weighted avg       0.39      0.39      0.39       600\n",
      "\n"
     ]
    }
   ],
   "source": [
    "from sklearn.model_selection import StratifiedKFold\n",
    "\n",
    "# Pipeline\n",
    "pipeline_rf = Pipeline([\n",
    "    ('scaler', StandardScaler()),  # Remove se só tiver variáveis categóricas\n",
    "    ('clf', RandomForestClassifier(class_weight='balanced', random_state=42))\n",
    "])\n",
    "\n",
    "# Parâmetros para GridSearch\n",
    "param_grid_rf = {\n",
    "    'clf__n_estimators': [250],\n",
    "    'clf__max_depth': [20],\n",
    "    'clf__min_samples_split': [2],\n",
    "    'clf__min_samples_leaf': [1],\n",
    "}\n",
    "\n",
    "# Validação cruzada estratificada\n",
    "cv = StratifiedKFold(n_splits=5, shuffle=True, random_state=42)\n",
    "\n",
    "# Grid Search\n",
    "grid_search_rf = GridSearchCV(\n",
    "    pipeline_rf,\n",
    "    param_grid_rf,\n",
    "    cv=cv,\n",
    "    scoring='f1_macro',\n",
    "    n_jobs=-1,\n",
    "    verbose=2\n",
    ")\n",
    "\n",
    "# Treinar\n",
    "grid_search_rf.fit(X_train, y_train)\n",
    "\n",
    "# Melhor modelo\n",
    "best_rf = grid_search_rf.best_estimator_\n",
    "print(\"Melhores parâmetros:\", grid_search_rf.best_params_)\n",
    "\n",
    "# Avaliar\n",
    "y_pred = best_rf.predict(X_test)\n",
    "print(\"\\nRelatório de classificação no teste:\")\n",
    "print(classification_report(y_test, y_pred))"
   ]
  },
  {
   "cell_type": "code",
   "execution_count": 223,
   "id": "f35a8263",
   "metadata": {},
   "outputs": [
    {
     "name": "stdout",
     "output_type": "stream",
     "text": [
      "Fitting 3 folds for each of 6 candidates, totalling 18 fits\n",
      "[LightGBM] [Info] Auto-choosing col-wise multi-threading, the overhead of testing was 0.262234 seconds.\n",
      "You can set `force_col_wise=true` to remove the overhead.\n",
      "[LightGBM] [Info] Total Bins 268\n",
      "[LightGBM] [Info] Auto-choosing col-wise multi-threading, the overhead of testing was 0.309515 seconds.\n",
      "You can set `force_col_wise=true` to remove the overhead.\n",
      "[LightGBM] [Info] Total Bins 267\n",
      "[LightGBM] [Info] Auto-choosing col-wise multi-threading, the overhead of testing was 0.311645 seconds.\n",
      "You can set `force_col_wise=true` to remove the overhead.\n",
      "[LightGBM] [Info] Total Bins 268\n",
      "[LightGBM] [Info] Auto-choosing col-wise multi-threading, the overhead of testing was 0.269342 seconds.\n",
      "You can set `force_col_wise=true` to remove the overhead.\n",
      "[LightGBM] [Info] Total Bins 268\n",
      "[LightGBM] [Info] Auto-choosing col-wise multi-threading, the overhead of testing was 0.335005 seconds.\n",
      "You can set `force_col_wise=true` to remove the overhead.\n",
      "[LightGBM] [Info] Total Bins 267\n",
      "[LightGBM] [Info] Number of data points in the train set: 1600, number of used features: 3\n",
      "[LightGBM] [Info] Number of data points in the train set: 1600, number of used features: 3\n",
      "[LightGBM] [Info] Start training from score -1.120091\n",
      "[LightGBM] [Info] Number of data points in the train set: 1600, number of used features: 3\n",
      "[LightGBM] [Info] Number of data points in the train set: 1600, number of used features: 3\n",
      "[LightGBM] [Info] Number of data points in the train set: 1600, number of used features: 3\n",
      "[LightGBM] [Info] Start training from score -1.120091\n",
      "[LightGBM] [Info] Start training from score -1.120091\n",
      "[LightGBM] [Info] Start training from score -1.120091\n",
      "[LightGBM] [Info] Start training from score -1.082493\n",
      "[LightGBM] [Info] [LightGBM] [Info] Start training from score -1.120091\n",
      "[LightGBM] [Info] Start training from score -1.080650\n",
      "Start training from score -1.080650\n",
      "[LightGBM] [Info] [LightGBM] [Info] Start training from score -1.093625\n",
      "Start training from score -1.082493[LightGBM] [Info] Start training from score -1.080650\n",
      "\n",
      "[LightGBM] [Info] Start training from score -1.095492\n",
      "[LightGBM] [Info] Start training from score -1.093625\n",
      "[LightGBM] [Info] Start training from score -1.095492\n",
      "[LightGBM] [Info] Start training from score -1.095492\n"
     ]
    },
    {
     "name": "stderr",
     "output_type": "stream",
     "text": [
      "[23:04:50] WARNING: /workspace/src/learner.cc:738: \n",
      "Parameters: { \"use_label_encoder\" } are not used.\n",
      "\n",
      "[23:04:50] WARNING: /workspace/src/learner.cc:738: \n",
      "Parameters: { \"use_label_encoder\" } are not used.\n",
      "\n",
      "[23:04:50] WARNING: /workspace/src/learner.cc:738: \n",
      "Parameters: { \"use_label_encoder\" } are not used.\n",
      "\n",
      "[23:04:50] WARNING: /workspace/src/learner.cc:738: \n",
      "Parameters: { \"use_label_encoder\" } are not used.\n",
      "\n",
      "[23:04:50] WARNING: /workspace/src/learner.cc:738: \n",
      "Parameters: { \"use_label_encoder\" } are not used.\n",
      "\n"
     ]
    },
    {
     "name": "stdout",
     "output_type": "stream",
     "text": [
      "[LightGBM] [Info] Auto-choosing col-wise multi-threading, the overhead of testing was 0.272148 seconds.\n",
      "You can set `force_col_wise=true` to remove the overhead.\n",
      "[LightGBM] [Info] Total Bins 268\n",
      "[LightGBM] [Info] Number of data points in the train set: 1600, number of used features: 3\n",
      "[LightGBM] [Info] Start training from score -1.120091\n",
      "[LightGBM] [Info] Start training from score -1.080650\n",
      "[LightGBM] [Info] Start training from score -1.095492\n"
     ]
    },
    {
     "name": "stderr",
     "output_type": "stream",
     "text": [
      "[23:04:51] WARNING: /workspace/src/learner.cc:738: \n",
      "Parameters: { \"use_label_encoder\" } are not used.\n",
      "\n"
     ]
    },
    {
     "name": "stdout",
     "output_type": "stream",
     "text": [
      "[LightGBM] [Info] Auto-choosing col-wise multi-threading, the overhead of testing was 0.323066 seconds.\n",
      "You can set `force_col_wise=true` to remove the overhead.\n",
      "[LightGBM] [Info] Total Bins 268\n",
      "[LightGBM] [Info] Number of data points in the train set: 1600, number of used features: 3\n",
      "[LightGBM] [Info] Start training from score -1.120091\n",
      "[LightGBM] [Info] Start training from score -1.082493\n",
      "[LightGBM] [Info] Start training from score -1.093625\n"
     ]
    },
    {
     "name": "stderr",
     "output_type": "stream",
     "text": [
      "[23:04:51] WARNING: /workspace/src/learner.cc:738: \n",
      "Parameters: { \"use_label_encoder\" } are not used.\n",
      "\n"
     ]
    },
    {
     "name": "stdout",
     "output_type": "stream",
     "text": [
      "[LightGBM] [Info] Auto-choosing col-wise multi-threading, the overhead of testing was 0.511666 seconds.\n",
      "You can set `force_col_wise=true` to remove the overhead.\n",
      "[LightGBM] [Info] Total Bins 268\n",
      "[LightGBM] [Info] Auto-choosing col-wise multi-threading, the overhead of testing was 0.442880 seconds.\n",
      "You can set `force_col_wise=true` to remove the overhead.\n",
      "[LightGBM] [Info] Total Bins 268\n",
      "[LightGBM] [Info] Number of data points in the train set: 1600, number of used features: 3\n",
      "[LightGBM] [Info] Number of data points in the train set: 1600, number of used features: 3\n",
      "[LightGBM] [Info] Start training from score -1.120091\n",
      "[LightGBM] [Info] Start training from score -1.120091\n",
      "[LightGBM] [Info] Start training from score -1.080650\n"
     ]
    },
    {
     "name": "stderr",
     "output_type": "stream",
     "text": [
      "[23:04:55] WARNING: /workspace/src/learner.cc:738: \n",
      "Parameters: { \"use_label_encoder\" } are not used.\n",
      "\n",
      "[23:04:55] WARNING: /workspace/src/learner.cc:738: \n",
      "Parameters: { \"use_label_encoder\" } are not used.\n",
      "\n"
     ]
    },
    {
     "name": "stdout",
     "output_type": "stream",
     "text": [
      "[LightGBM] [Info] Start training from score -1.082493\n",
      "[LightGBM] [Info] Start training from score -1.095492\n",
      "[LightGBM] [Info] Auto-choosing col-wise multi-threading, the overhead of testing was 0.561364 seconds.\n",
      "You can set `force_col_wise=true` to remove the overhead.\n",
      "[LightGBM] [Info] Total Bins 268\n",
      "[LightGBM] [Info] Auto-choosing col-wise multi-threading, the overhead of testing was 0.580212 seconds.\n",
      "You can set `force_col_wise=true` to remove the overhead.\n",
      "[LightGBM] [Info] Total Bins 267\n",
      "[LightGBM] [Info] [LightGBM] [Info] Number of data points in the train set: 1600, number of used features: 3\n",
      "Number of data points in the train set: 1600, number of used features: 3\n",
      "[LightGBM] [Info] Auto-choosing col-wise multi-threading, the overhead of testing was 0.539407 seconds.\n",
      "You can set `force_col_wise=true` to remove the overhead.\n",
      "[LightGBM] [Info] Total Bins 267\n",
      "[LightGBM] [Info] Start training from score -1.093625\n",
      "[LightGBM] [Info] Start training from score -1.120091\n",
      "[LightGBM] [Info] Start training from score -1.120091\n",
      "[LightGBM] [Info] Number of data points in the train set: 1600, number of used features: 3\n",
      "[LightGBM] [Info] Start training from score -1.080650\n"
     ]
    },
    {
     "name": "stderr",
     "output_type": "stream",
     "text": [
      "[23:04:56] WARNING: /workspace/src/learner.cc:738: \n",
      "Parameters: { \"use_label_encoder\" } are not used.\n",
      "\n",
      "[23:04:56] WARNING: /workspace/src/learner.cc:738: \n",
      "Parameters: { \"use_label_encoder\" } are not used.\n",
      "\n"
     ]
    },
    {
     "name": "stdout",
     "output_type": "stream",
     "text": [
      "[LightGBM] [Info] Start training from score -1.120091\n",
      "[LightGBM] [Info] Start training from score -1.095492\n",
      "[LightGBM] [Info] Start training from score -1.080650\n",
      "[LightGBM] [Info] Start training from score -1.080650\n",
      "[LightGBM] [Info] Start training from score -1.095492\n",
      "[LightGBM] [Info] Start training from score -1.095492\n",
      "[LightGBM] [Info] Auto-choosing col-wise multi-threading, the overhead of testing was 0.804928 seconds.\n",
      "You can set `force_col_wise=true` to remove the overhead.\n",
      "[LightGBM] [Info] Total Bins 268\n"
     ]
    },
    {
     "name": "stderr",
     "output_type": "stream",
     "text": [
      "[23:04:57] WARNING: /workspace/src/learner.cc:738: \n",
      "Parameters: { \"use_label_encoder\" } are not used.\n",
      "\n",
      "[23:04:57] WARNING: /workspace/src/learner.cc:738: \n",
      "Parameters: { \"use_label_encoder\" } are not used.\n",
      "\n"
     ]
    },
    {
     "name": "stdout",
     "output_type": "stream",
     "text": [
      "[LightGBM] [Info] Number of data points in the train set: 1600, number of used features: 3\n",
      "[LightGBM] [Info] Start training from score -1.120091\n",
      "[LightGBM] [Info] Start training from score -1.080650\n",
      "[LightGBM] [Info] Start training from score -1.095492\n",
      "[LightGBM] [Info] Auto-choosing col-wise multi-threading, the overhead of testing was 0.719035 seconds.\n",
      "You can set `force_col_wise=true` to remove the overhead.\n",
      "[LightGBM] [Info] Total Bins 267\n",
      "[LightGBM] [Info] Auto-choosing col-wise multi-threading, the overhead of testing was 0.623271 seconds.\n",
      "You can set `force_col_wise=true` to remove the overhead.\n",
      "[LightGBM] [Info] Total Bins 268\n",
      "[LightGBM] [Info] Number of data points in the train set: 1600, number of used features: 3\n",
      "[LightGBM] [Info] Number of data points in the train set: 1600, number of used features: 3\n",
      "[LightGBM] [Info] Start training from score -1.120091\n",
      "[LightGBM] [Info] Start training from score -1.120091\n",
      "[LightGBM] [Info] Start training from score -1.080650\n",
      "[LightGBM] [Info] Start training from score -1.082493\n"
     ]
    },
    {
     "name": "stderr",
     "output_type": "stream",
     "text": [
      "[23:04:58] WARNING: /workspace/src/learner.cc:738: \n",
      "Parameters: { \"use_label_encoder\" } are not used.\n",
      "\n"
     ]
    },
    {
     "name": "stdout",
     "output_type": "stream",
     "text": [
      "[LightGBM] [Info] Auto-choosing col-wise multi-threading, the overhead of testing was 0.537124 seconds.\n",
      "You can set `force_col_wise=true` to remove the overhead.\n",
      "[LightGBM] [Info] Total Bins 267\n",
      "[LightGBM] [Info] Start training from score -1.093625\n",
      "[LightGBM] [Info] Number of data points in the train set: 1600, number of used features: 3\n",
      "[LightGBM] [Info] Start training from score -1.095492\n",
      "[LightGBM] [Info] Start training from score -1.120091\n",
      "[LightGBM] [Info] Start training from score -1.080650\n",
      "[LightGBM] [Info] Start training from score -1.095492\n"
     ]
    },
    {
     "name": "stderr",
     "output_type": "stream",
     "text": [
      "[23:04:58] WARNING: /workspace/src/learner.cc:738: \n",
      "Parameters: { \"use_label_encoder\" } are not used.\n",
      "\n",
      "[23:04:58] WARNING: /workspace/src/learner.cc:738: \n",
      "Parameters: { \"use_label_encoder\" } are not used.\n",
      "\n"
     ]
    },
    {
     "name": "stdout",
     "output_type": "stream",
     "text": [
      "[LightGBM] [Info] Auto-choosing col-wise multi-threading, the overhead of testing was 0.586557 seconds.\n",
      "You can set `force_col_wise=true` to remove the overhead.\n",
      "[LightGBM] [Info] Total Bins 268\n",
      "[LightGBM] [Info] Number of data points in the train set: 1600, number of used features: 3\n",
      "[LightGBM] [Info] Start training from score -1.120091\n"
     ]
    },
    {
     "name": "stderr",
     "output_type": "stream",
     "text": [
      "[23:04:59] WARNING: /workspace/src/learner.cc:738: \n",
      "Parameters: { \"use_label_encoder\" } are not used.\n",
      "\n"
     ]
    },
    {
     "name": "stdout",
     "output_type": "stream",
     "text": [
      "[LightGBM] [Info] Start training from score -1.080650\n",
      "[LightGBM] [Info] Start training from score -1.095492\n",
      "[LightGBM] [Info] Auto-choosing col-wise multi-threading, the overhead of testing was 0.606599 seconds.\n",
      "You can set `force_col_wise=true` to remove the overhead.\n",
      "[LightGBM] [Info] Total Bins 268\n",
      "[LightGBM] [Info] Number of data points in the train set: 1600, number of used features: 3\n",
      "[LightGBM] [Info] Start training from score -1.120091\n",
      "[LightGBM] [Info] Start training from score -1.082493\n",
      "[LightGBM] [Info] Start training from score -1.093625\n"
     ]
    },
    {
     "name": "stderr",
     "output_type": "stream",
     "text": [
      "[23:05:01] WARNING: /workspace/src/learner.cc:738: \n",
      "Parameters: { \"use_label_encoder\" } are not used.\n",
      "\n",
      "[00:33:15] WARNING: /workspace/src/learner.cc:738: \n",
      "Parameters: { \"use_label_encoder\" } are not used.\n",
      "\n"
     ]
    },
    {
     "name": "stdout",
     "output_type": "stream",
     "text": [
      "[LightGBM] [Info] Auto-choosing col-wise multi-threading, the overhead of testing was 0.563605 seconds.\n",
      "You can set `force_col_wise=true` to remove the overhead.\n",
      "[LightGBM] [Info] Total Bins 268\n",
      "[LightGBM] [Info] Number of data points in the train set: 1280, number of used features: 3\n",
      "[LightGBM] [Info] Start training from score -1.119134\n",
      "[LightGBM] [Info] Start training from score -1.081571\n",
      "[LightGBM] [Info] Start training from score -1.095492\n"
     ]
    },
    {
     "name": "stderr",
     "output_type": "stream",
     "text": [
      "[00:33:16] WARNING: /workspace/src/learner.cc:738: \n",
      "Parameters: { \"use_label_encoder\" } are not used.\n",
      "\n",
      "[00:33:18] WARNING: /workspace/src/learner.cc:738: \n",
      "Parameters: { \"use_label_encoder\" } are not used.\n",
      "\n",
      "[00:33:19] WARNING: /workspace/src/learner.cc:738: \n",
      "Parameters: { \"use_label_encoder\" } are not used.\n",
      "\n",
      "[00:33:20] WARNING: /workspace/src/learner.cc:738: \n",
      "Parameters: { \"use_label_encoder\" } are not used.\n",
      "\n",
      "[00:34:20] WARNING: /workspace/src/learner.cc:738: \n",
      "Parameters: { \"use_label_encoder\" } are not used.\n",
      "\n",
      "[00:34:21] WARNING: /workspace/src/learner.cc:738: \n",
      "Parameters: { \"use_label_encoder\" } are not used.\n",
      "\n"
     ]
    },
    {
     "name": "stdout",
     "output_type": "stream",
     "text": [
      "[LightGBM] [Info] Auto-choosing col-wise multi-threading, the overhead of testing was 0.557011 seconds.\n",
      "You can set `force_col_wise=true` to remove the overhead.\n",
      "[LightGBM] [Info] Total Bins 268\n",
      "[LightGBM] [Info] Auto-choosing col-wise multi-threading, the overhead of testing was 0.630368 seconds.\n",
      "You can set `force_col_wise=true` to remove the overhead.\n",
      "[LightGBM] [Info] Total Bins 268\n",
      "[LightGBM] [Info] Number of data points in the train set: 1280, number of used features: 3\n",
      "[LightGBM] [Info] Number of data points in the train set: 1280, number of used features: 3\n",
      "[LightGBM] [Info] Start training from score -1.119134\n",
      "[LightGBM] [Info] Start training from score -1.121529\n",
      "[LightGBM] [Info] Start training from score -1.081571\n",
      "[LightGBM] [Info] Start training from score -1.081571\n",
      "[LightGBM] [Info] Start training from score -1.095492\n",
      "[LightGBM] [Info] Start training from score -1.093158\n"
     ]
    },
    {
     "name": "stderr",
     "output_type": "stream",
     "text": [
      "[00:34:22] WARNING: /workspace/src/learner.cc:738: \n",
      "Parameters: { \"use_label_encoder\" } are not used.\n",
      "\n",
      "[00:34:23] WARNING: /workspace/src/learner.cc:738: \n",
      "Parameters: { \"use_label_encoder\" } are not used.\n",
      "\n",
      "[00:34:23] WARNING: /workspace/src/learner.cc:738: \n",
      "Parameters: { \"use_label_encoder\" } are not used.\n",
      "\n",
      "[00:34:24] WARNING: /workspace/src/learner.cc:738: \n",
      "Parameters: { \"use_label_encoder\" } are not used.\n",
      "\n",
      "[00:34:24] WARNING: /workspace/src/learner.cc:738: \n",
      "Parameters: { \"use_label_encoder\" } are not used.\n",
      "\n",
      "[00:34:26] WARNING: /workspace/src/learner.cc:738: \n",
      "Parameters: { \"use_label_encoder\" } are not used.\n",
      "\n",
      "[00:34:26] WARNING: /workspace/src/learner.cc:738: \n",
      "Parameters: { \"use_label_encoder\" } are not used.\n",
      "\n",
      "[00:34:27] WARNING: /workspace/src/learner.cc:738: \n",
      "Parameters: { \"use_label_encoder\" } are not used.\n",
      "\n",
      "[00:34:28] WARNING: /workspace/src/learner.cc:738: \n",
      "Parameters: { \"use_label_encoder\" } are not used.\n",
      "\n"
     ]
    },
    {
     "name": "stdout",
     "output_type": "stream",
     "text": [
      "[LightGBM] [Info] Auto-choosing col-wise multi-threading, the overhead of testing was 0.568479 seconds.\n",
      "You can set `force_col_wise=true` to remove the overhead.\n",
      "[LightGBM] [Info] Total Bins 268\n"
     ]
    },
    {
     "name": "stderr",
     "output_type": "stream",
     "text": [
      "[00:34:28] WARNING: /workspace/src/learner.cc:738: \n",
      "Parameters: { \"use_label_encoder\" } are not used.\n",
      "\n"
     ]
    },
    {
     "name": "stdout",
     "output_type": "stream",
     "text": [
      "[LightGBM] [Info] Number of data points in the train set: 1280, number of used features: 3\n",
      "[LightGBM] [Info] Start training from score -1.119134\n"
     ]
    },
    {
     "name": "stderr",
     "output_type": "stream",
     "text": [
      "[00:34:28] WARNING: /workspace/src/learner.cc:738: \n",
      "Parameters: { \"use_label_encoder\" } are not used.\n",
      "\n"
     ]
    },
    {
     "name": "stdout",
     "output_type": "stream",
     "text": [
      "[LightGBM] [Info] Start training from score -1.081571\n",
      "[LightGBM] [Info] Start training from score -1.095492\n"
     ]
    },
    {
     "name": "stderr",
     "output_type": "stream",
     "text": [
      "[00:34:29] WARNING: /workspace/src/learner.cc:738: \n",
      "Parameters: { \"use_label_encoder\" } are not used.\n",
      "\n",
      "[00:34:30] WARNING: /workspace/src/learner.cc:738: \n",
      "Parameters: { \"use_label_encoder\" } are not used.\n",
      "\n",
      "[00:34:51] WARNING: /workspace/src/learner.cc:738: \n",
      "Parameters: { \"use_label_encoder\" } are not used.\n",
      "\n"
     ]
    },
    {
     "name": "stdout",
     "output_type": "stream",
     "text": [
      "[LightGBM] [Info] Auto-choosing col-wise multi-threading, the overhead of testing was 0.568382 seconds.\n",
      "You can set `force_col_wise=true` to remove the overhead.\n",
      "[LightGBM] [Info] Total Bins 268\n",
      "[LightGBM] [Info] Number of data points in the train set: 1280, number of used features: 3\n",
      "[LightGBM] [Info] Start training from score -1.119134\n",
      "[LightGBM] [Info] Start training from score -1.081571\n"
     ]
    },
    {
     "name": "stderr",
     "output_type": "stream",
     "text": [
      "[00:34:53] WARNING: /workspace/src/learner.cc:738: \n",
      "Parameters: { \"use_label_encoder\" } are not used.\n",
      "\n"
     ]
    },
    {
     "name": "stdout",
     "output_type": "stream",
     "text": [
      "[LightGBM] [Info] Start training from score -1.095492\n"
     ]
    },
    {
     "name": "stderr",
     "output_type": "stream",
     "text": [
      "[00:34:54] WARNING: /workspace/src/learner.cc:738: \n",
      "Parameters: { \"use_label_encoder\" } are not used.\n",
      "\n",
      "[00:34:55] WARNING: /workspace/src/learner.cc:738: \n",
      "Parameters: { \"use_label_encoder\" } are not used.\n",
      "\n",
      "[00:34:56] WARNING: /workspace/src/learner.cc:738: \n",
      "Parameters: { \"use_label_encoder\" } are not used.\n",
      "\n",
      "[00:35:14] WARNING: /workspace/src/learner.cc:738: \n",
      "Parameters: { \"use_label_encoder\" } are not used.\n",
      "\n"
     ]
    },
    {
     "name": "stdout",
     "output_type": "stream",
     "text": [
      "[LightGBM] [Info] Auto-choosing col-wise multi-threading, the overhead of testing was 0.654566 seconds.\n",
      "You can set `force_col_wise=true` to remove the overhead.\n",
      "[LightGBM] [Info] Total Bins 268\n",
      "[LightGBM] [Info] Number of data points in the train set: 1280, number of used features: 3\n"
     ]
    },
    {
     "name": "stderr",
     "output_type": "stream",
     "text": [
      "[00:35:15] WARNING: /workspace/src/learner.cc:738: \n",
      "Parameters: { \"use_label_encoder\" } are not used.\n",
      "\n"
     ]
    },
    {
     "name": "stdout",
     "output_type": "stream",
     "text": [
      "[LightGBM] [Info] Start training from score -1.121529\n",
      "[LightGBM] [Info] Start training from score -1.081571\n",
      "[LightGBM] [Info] Start training from score -1.093158\n"
     ]
    },
    {
     "name": "stderr",
     "output_type": "stream",
     "text": [
      "[00:35:17] WARNING: /workspace/src/learner.cc:738: \n",
      "Parameters: { \"use_label_encoder\" } are not used.\n",
      "\n",
      "[00:35:18] WARNING: /workspace/src/learner.cc:738: \n",
      "Parameters: { \"use_label_encoder\" } are not used.\n",
      "\n",
      "[00:35:19] WARNING: /workspace/src/learner.cc:738: \n",
      "Parameters: { \"use_label_encoder\" } are not used.\n",
      "\n",
      "[00:35:24] WARNING: /workspace/src/learner.cc:738: \n",
      "Parameters: { \"use_label_encoder\" } are not used.\n",
      "\n",
      "[00:35:24] WARNING: /workspace/src/learner.cc:738: \n",
      "Parameters: { \"use_label_encoder\" } are not used.\n",
      "\n"
     ]
    },
    {
     "name": "stdout",
     "output_type": "stream",
     "text": [
      "[LightGBM] [Info] Auto-choosing col-wise multi-threading, the overhead of testing was 0.567272 seconds.\n",
      "You can set `force_col_wise=true` to remove the overhead.\n",
      "[LightGBM] [Info] Total Bins 268\n",
      "[LightGBM] [Info] Number of data points in the train set: 1280, number of used features: 3\n",
      "[LightGBM] [Info] Start training from score -1.121529\n",
      "[LightGBM] [Info] Start training from score -1.081571\n"
     ]
    },
    {
     "name": "stderr",
     "output_type": "stream",
     "text": [
      "[00:35:25] WARNING: /workspace/src/learner.cc:738: \n",
      "Parameters: { \"use_label_encoder\" } are not used.\n",
      "\n"
     ]
    },
    {
     "name": "stdout",
     "output_type": "stream",
     "text": [
      "[LightGBM] [Info] Start training from score -1.093158\n"
     ]
    },
    {
     "name": "stderr",
     "output_type": "stream",
     "text": [
      "[00:35:26] WARNING: /workspace/src/learner.cc:738: \n",
      "Parameters: { \"use_label_encoder\" } are not used.\n",
      "\n",
      "[00:35:26] WARNING: /workspace/src/learner.cc:738: \n",
      "Parameters: { \"use_label_encoder\" } are not used.\n",
      "\n",
      "[00:35:48] WARNING: /workspace/src/learner.cc:738: \n",
      "Parameters: { \"use_label_encoder\" } are not used.\n",
      "\n"
     ]
    },
    {
     "name": "stdout",
     "output_type": "stream",
     "text": [
      "[LightGBM] [Info] Auto-choosing col-wise multi-threading, the overhead of testing was 0.678948 seconds.\n",
      "You can set `force_col_wise=true` to remove the overhead.\n",
      "[LightGBM] [Info] Total Bins 268\n",
      "[LightGBM] [Info] Number of data points in the train set: 1280, number of used features: 3\n",
      "[LightGBM] [Info] Start training from score -1.121529\n",
      "[LightGBM] [Info] Start training from score -1.079269\n",
      "[LightGBM] [Info] Start training from score -1.095492\n"
     ]
    },
    {
     "name": "stderr",
     "output_type": "stream",
     "text": [
      "[00:35:49] WARNING: /workspace/src/learner.cc:738: \n",
      "Parameters: { \"use_label_encoder\" } are not used.\n",
      "\n",
      "[00:35:51] WARNING: /workspace/src/learner.cc:738: \n",
      "Parameters: { \"use_label_encoder\" } are not used.\n",
      "\n",
      "[00:36:03] WARNING: /workspace/src/learner.cc:738: \n",
      "Parameters: { \"use_label_encoder\" } are not used.\n",
      "\n",
      "[00:35:53] WARNING: /workspace/src/learner.cc:738: \n",
      "Parameters: { \"use_label_encoder\" } are not used.\n",
      "\n",
      "[00:35:53] WARNING: /workspace/src/learner.cc:738: \n",
      "Parameters: { \"use_label_encoder\" } are not used.\n",
      "\n"
     ]
    },
    {
     "name": "stdout",
     "output_type": "stream",
     "text": [
      "[LightGBM] [Info] Auto-choosing col-wise multi-threading, the overhead of testing was 0.611117 seconds.\n",
      "You can set `force_col_wise=true` to remove the overhead.\n",
      "[LightGBM] [Info] Total Bins 268\n",
      "[LightGBM] [Info] Number of data points in the train set: 1280, number of used features: 3\n",
      "[LightGBM] [Info] Start training from score -1.121529\n",
      "[LightGBM] [Info] Start training from score -1.079269\n",
      "[LightGBM] [Info] Start training from score -1.095492\n"
     ]
    },
    {
     "name": "stderr",
     "output_type": "stream",
     "text": [
      "[00:35:55] WARNING: /workspace/src/learner.cc:738: \n",
      "Parameters: { \"use_label_encoder\" } are not used.\n",
      "\n",
      "[00:35:56] WARNING: /workspace/src/learner.cc:738: \n",
      "Parameters: { \"use_label_encoder\" } are not used.\n",
      "\n",
      "[00:35:56] WARNING: /workspace/src/learner.cc:738: \n",
      "Parameters: { \"use_label_encoder\" } are not used.\n",
      "\n",
      "[00:35:57] WARNING: /workspace/src/learner.cc:738: \n",
      "Parameters: { \"use_label_encoder\" } are not used.\n",
      "\n",
      "[00:35:57] WARNING: /workspace/src/learner.cc:738: \n",
      "Parameters: { \"use_label_encoder\" } are not used.\n",
      "\n"
     ]
    },
    {
     "name": "stdout",
     "output_type": "stream",
     "text": [
      "[LightGBM] [Info] Auto-choosing col-wise multi-threading, the overhead of testing was 0.688802 seconds.\n",
      "You can set `force_col_wise=true` to remove the overhead.\n",
      "[LightGBM] [Info] Total Bins 268\n",
      "[LightGBM] [Info] Number of data points in the train set: 1280, number of used features: 3\n",
      "[LightGBM] [Info] Start training from score -1.121529\n",
      "[LightGBM] [Info] Start training from score -1.079269\n",
      "[LightGBM] [Info] Start training from score -1.095492\n"
     ]
    },
    {
     "name": "stderr",
     "output_type": "stream",
     "text": [
      "[00:35:59] WARNING: /workspace/src/learner.cc:738: \n",
      "Parameters: { \"use_label_encoder\" } are not used.\n",
      "\n",
      "[00:36:00] WARNING: /workspace/src/learner.cc:738: \n",
      "Parameters: { \"use_label_encoder\" } are not used.\n",
      "\n",
      "[00:36:01] WARNING: /workspace/src/learner.cc:738: \n",
      "Parameters: { \"use_label_encoder\" } are not used.\n",
      "\n",
      "[00:36:02] WARNING: /workspace/src/learner.cc:738: \n",
      "Parameters: { \"use_label_encoder\" } are not used.\n",
      "\n",
      "[00:36:43] WARNING: /workspace/src/learner.cc:738: \n",
      "Parameters: { \"use_label_encoder\" } are not used.\n",
      "\n"
     ]
    },
    {
     "name": "stdout",
     "output_type": "stream",
     "text": [
      "[LightGBM] [Info] Auto-choosing col-wise multi-threading, the overhead of testing was 0.632511 seconds.\n",
      "You can set `force_col_wise=true` to remove the overhead.\n",
      "[LightGBM] [Info] Total Bins 268\n",
      "[LightGBM] [Info] Number of data points in the train set: 1280, number of used features: 3\n",
      "[LightGBM] [Info] Start training from score -1.121529\n",
      "[LightGBM] [Info] Start training from score -1.081571\n",
      "[LightGBM] [Info] Start training from score -1.093158\n"
     ]
    },
    {
     "name": "stderr",
     "output_type": "stream",
     "text": [
      "[00:36:46] WARNING: /workspace/src/learner.cc:738: \n",
      "Parameters: { \"use_label_encoder\" } are not used.\n",
      "\n",
      "[00:36:48] WARNING: /workspace/src/learner.cc:738: \n",
      "Parameters: { \"use_label_encoder\" } are not used.\n",
      "\n",
      "[00:36:50] WARNING: /workspace/src/learner.cc:738: \n",
      "Parameters: { \"use_label_encoder\" } are not used.\n",
      "\n",
      "[00:36:50] WARNING: /workspace/src/learner.cc:738: \n",
      "Parameters: { \"use_label_encoder\" } are not used.\n",
      "\n",
      "[00:36:51] WARNING: /workspace/src/learner.cc:738: \n",
      "Parameters: { \"use_label_encoder\" } are not used.\n",
      "\n",
      "[00:36:51] WARNING: /workspace/src/learner.cc:738: \n",
      "Parameters: { \"use_label_encoder\" } are not used.\n",
      "\n"
     ]
    },
    {
     "name": "stdout",
     "output_type": "stream",
     "text": [
      "[LightGBM] [Info] Auto-choosing col-wise multi-threading, the overhead of testing was 0.712112 seconds.\n",
      "You can set `force_col_wise=true` to remove the overhead.\n",
      "[LightGBM] [Info] Total Bins 268\n",
      "[LightGBM] [Info] Number of data points in the train set: 1280, number of used features: 3\n",
      "[LightGBM] [Info] Start training from score -1.121529\n",
      "[LightGBM] [Info] Start training from score -1.081571\n"
     ]
    },
    {
     "name": "stderr",
     "output_type": "stream",
     "text": [
      "[00:36:51] WARNING: /workspace/src/learner.cc:738: \n",
      "Parameters: { \"use_label_encoder\" } are not used.\n",
      "\n"
     ]
    },
    {
     "name": "stdout",
     "output_type": "stream",
     "text": [
      "[LightGBM] [Info] Start training from score -1.093158\n"
     ]
    },
    {
     "name": "stderr",
     "output_type": "stream",
     "text": [
      "[00:36:52] WARNING: /workspace/src/learner.cc:738: \n",
      "Parameters: { \"use_label_encoder\" } are not used.\n",
      "\n",
      "[00:36:53] WARNING: /workspace/src/learner.cc:738: \n",
      "Parameters: { \"use_label_encoder\" } are not used.\n",
      "\n",
      "[00:36:54] WARNING: /workspace/src/learner.cc:738: \n",
      "Parameters: { \"use_label_encoder\" } are not used.\n",
      "\n",
      "[00:36:55] WARNING: /workspace/src/learner.cc:738: \n",
      "Parameters: { \"use_label_encoder\" } are not used.\n",
      "\n"
     ]
    },
    {
     "name": "stdout",
     "output_type": "stream",
     "text": [
      "[LightGBM] [Info] Auto-choosing col-wise multi-threading, the overhead of testing was 0.843649 seconds.\n",
      "You can set `force_col_wise=true` to remove the overhead.\n",
      "[LightGBM] [Info] Total Bins 268\n",
      "[LightGBM] [Info] Number of data points in the train set: 1280, number of used features: 3\n",
      "[LightGBM] [Info] Start training from score -1.121529\n",
      "[LightGBM] [Info] Start training from score -1.079269\n",
      "[LightGBM] [Info] Start training from score -1.095492\n"
     ]
    },
    {
     "name": "stderr",
     "output_type": "stream",
     "text": [
      "[00:36:56] WARNING: /workspace/src/learner.cc:738: \n",
      "Parameters: { \"use_label_encoder\" } are not used.\n",
      "\n",
      "[00:36:57] WARNING: /workspace/src/learner.cc:738: \n",
      "Parameters: { \"use_label_encoder\" } are not used.\n",
      "\n",
      "[00:36:59] WARNING: /workspace/src/learner.cc:738: \n",
      "Parameters: { \"use_label_encoder\" } are not used.\n",
      "\n",
      "[00:37:08] WARNING: /workspace/src/learner.cc:738: \n",
      "Parameters: { \"use_label_encoder\" } are not used.\n",
      "\n"
     ]
    },
    {
     "name": "stdout",
     "output_type": "stream",
     "text": [
      "[LightGBM] [Info] Auto-choosing col-wise multi-threading, the overhead of testing was 0.568438 seconds.\n",
      "You can set `force_col_wise=true` to remove the overhead.\n",
      "[LightGBM] [Info] Total Bins 268\n",
      "[LightGBM] [Info] Number of data points in the train set: 1280, number of used features: 3\n",
      "[LightGBM] [Info] Start training from score -1.121529\n",
      "[LightGBM] [Info] Start training from score -1.079269\n",
      "[LightGBM] [Info] Start training from score -1.095492\n"
     ]
    },
    {
     "name": "stderr",
     "output_type": "stream",
     "text": [
      "[00:37:10] WARNING: /workspace/src/learner.cc:738: \n",
      "Parameters: { \"use_label_encoder\" } are not used.\n",
      "\n",
      "[00:37:12] WARNING: /workspace/src/learner.cc:738: \n",
      "Parameters: { \"use_label_encoder\" } are not used.\n",
      "\n",
      "[00:37:12] WARNING: /workspace/src/learner.cc:738: \n",
      "Parameters: { \"use_label_encoder\" } are not used.\n",
      "\n",
      "[00:37:13] WARNING: /workspace/src/learner.cc:738: \n",
      "Parameters: { \"use_label_encoder\" } are not used.\n",
      "\n"
     ]
    },
    {
     "name": "stdout",
     "output_type": "stream",
     "text": [
      "[LightGBM] [Info] Auto-choosing col-wise multi-threading, the overhead of testing was 0.588461 seconds.\n",
      "You can set `force_col_wise=true` to remove the overhead.\n",
      "[LightGBM] [Info] Total Bins 268\n",
      "[LightGBM] [Info] Number of data points in the train set: 1280, number of used features: 3\n"
     ]
    },
    {
     "name": "stderr",
     "output_type": "stream",
     "text": [
      "[00:37:13] WARNING: /workspace/src/learner.cc:738: \n",
      "Parameters: { \"use_label_encoder\" } are not used.\n",
      "\n"
     ]
    },
    {
     "name": "stdout",
     "output_type": "stream",
     "text": [
      "[LightGBM] [Info] Start training from score -1.121529\n",
      "[LightGBM] [Info] Start training from score -1.081571\n"
     ]
    },
    {
     "name": "stderr",
     "output_type": "stream",
     "text": [
      "[00:37:13] WARNING: /workspace/src/learner.cc:738: \n",
      "Parameters: { \"use_label_encoder\" } are not used.\n",
      "\n"
     ]
    },
    {
     "name": "stdout",
     "output_type": "stream",
     "text": [
      "[LightGBM] [Info] Start training from score -1.093158\n"
     ]
    },
    {
     "name": "stderr",
     "output_type": "stream",
     "text": [
      "[00:37:14] WARNING: /workspace/src/learner.cc:738: \n",
      "Parameters: { \"use_label_encoder\" } are not used.\n",
      "\n",
      "[00:37:14] WARNING: /workspace/src/learner.cc:738: \n",
      "Parameters: { \"use_label_encoder\" } are not used.\n",
      "\n",
      "[00:37:14] WARNING: /workspace/src/learner.cc:738: \n",
      "Parameters: { \"use_label_encoder\" } are not used.\n",
      "\n",
      "[00:37:24] WARNING: /workspace/src/learner.cc:738: \n",
      "Parameters: { \"use_label_encoder\" } are not used.\n",
      "\n"
     ]
    },
    {
     "name": "stdout",
     "output_type": "stream",
     "text": [
      "[LightGBM] [Info] Auto-choosing col-wise multi-threading, the overhead of testing was 0.621885 seconds.\n",
      "You can set `force_col_wise=true` to remove the overhead.\n",
      "[LightGBM] [Info] Total Bins 268\n",
      "[LightGBM] [Info] Number of data points in the train set: 1280, number of used features: 3\n",
      "[LightGBM] [Info] Start training from score -1.119134\n",
      "[LightGBM] [Info] Start training from score -1.081571\n"
     ]
    },
    {
     "name": "stderr",
     "output_type": "stream",
     "text": [
      "[00:37:26] WARNING: /workspace/src/learner.cc:738: \n",
      "Parameters: { \"use_label_encoder\" } are not used.\n",
      "\n"
     ]
    },
    {
     "name": "stdout",
     "output_type": "stream",
     "text": [
      "[LightGBM] [Info] Start training from score -1.095492\n"
     ]
    },
    {
     "name": "stderr",
     "output_type": "stream",
     "text": [
      "[00:37:27] WARNING: /workspace/src/learner.cc:738: \n",
      "Parameters: { \"use_label_encoder\" } are not used.\n",
      "\n",
      "[00:37:28] WARNING: /workspace/src/learner.cc:738: \n",
      "Parameters: { \"use_label_encoder\" } are not used.\n",
      "\n",
      "[00:37:28] WARNING: /workspace/src/learner.cc:738: \n",
      "Parameters: { \"use_label_encoder\" } are not used.\n",
      "\n"
     ]
    },
    {
     "name": "stdout",
     "output_type": "stream",
     "text": [
      "[LightGBM] [Info] Auto-choosing col-wise multi-threading, the overhead of testing was 0.578966 seconds.\n",
      "You can set `force_col_wise=true` to remove the overhead.\n",
      "[LightGBM] [Info] Total Bins 268\n",
      "[LightGBM] [Info] Number of data points in the train set: 1280, number of used features: 3\n"
     ]
    },
    {
     "name": "stderr",
     "output_type": "stream",
     "text": [
      "[00:37:29] WARNING: /workspace/src/learner.cc:738: \n",
      "Parameters: { \"use_label_encoder\" } are not used.\n",
      "\n"
     ]
    },
    {
     "name": "stdout",
     "output_type": "stream",
     "text": [
      "[LightGBM] [Info] Start training from score -1.119134\n"
     ]
    },
    {
     "name": "stderr",
     "output_type": "stream",
     "text": [
      "[00:37:29] WARNING: /workspace/src/learner.cc:738: \n",
      "Parameters: { \"use_label_encoder\" } are not used.\n",
      "\n"
     ]
    },
    {
     "name": "stdout",
     "output_type": "stream",
     "text": [
      "[LightGBM] [Info] Start training from score -1.081571\n",
      "[LightGBM] [Info] Start training from score -1.095492\n"
     ]
    },
    {
     "name": "stderr",
     "output_type": "stream",
     "text": [
      "[00:37:30] WARNING: /workspace/src/learner.cc:738: \n",
      "Parameters: { \"use_label_encoder\" } are not used.\n",
      "\n",
      "[00:37:31] WARNING: /workspace/src/learner.cc:738: \n",
      "Parameters: { \"use_label_encoder\" } are not used.\n",
      "\n",
      "[00:37:31] WARNING: /workspace/src/learner.cc:738: \n",
      "Parameters: { \"use_label_encoder\" } are not used.\n",
      "\n",
      "[00:38:48] WARNING: /workspace/src/learner.cc:738: \n",
      "Parameters: { \"use_label_encoder\" } are not used.\n",
      "\n"
     ]
    },
    {
     "name": "stdout",
     "output_type": "stream",
     "text": [
      "[LightGBM] [Info] Auto-choosing col-wise multi-threading, the overhead of testing was 0.659018 seconds.\n",
      "You can set `force_col_wise=true` to remove the overhead.\n",
      "[LightGBM] [Info] Total Bins 268\n",
      "[LightGBM] [Info] Number of data points in the train set: 1280, number of used features: 3\n",
      "[LightGBM] [Info] Start training from score -1.121529\n",
      "[LightGBM] [Info] Start training from score -1.079269\n",
      "[LightGBM] [Info] Start training from score -1.095492\n"
     ]
    },
    {
     "name": "stderr",
     "output_type": "stream",
     "text": [
      "[00:38:39] WARNING: /workspace/src/learner.cc:738: \n",
      "Parameters: { \"use_label_encoder\" } are not used.\n",
      "\n",
      "[00:38:41] WARNING: /workspace/src/learner.cc:738: \n",
      "Parameters: { \"use_label_encoder\" } are not used.\n",
      "\n",
      "[00:38:42] WARNING: /workspace/src/learner.cc:738: \n",
      "Parameters: { \"use_label_encoder\" } are not used.\n",
      "\n",
      "[00:38:43] WARNING: /workspace/src/learner.cc:738: \n",
      "Parameters: { \"use_label_encoder\" } are not used.\n",
      "\n",
      "/home/thomaz/APP_5/venv/lib/python3.12/site-packages/sklearn/utils/validation.py:2739: UserWarning: X does not have valid feature names, but LGBMClassifier was fitted with feature names\n",
      "  warnings.warn(\n"
     ]
    },
    {
     "name": "stdout",
     "output_type": "stream",
     "text": [
      "[LightGBM] [Info] Auto-choosing col-wise multi-threading, the overhead of testing was 0.533532 seconds.\n",
      "You can set `force_col_wise=true` to remove the overhead.\n",
      "[LightGBM] [Info] Total Bins 267\n",
      "[LightGBM] [Info] Number of data points in the train set: 1280, number of used features: 3\n",
      "[LightGBM] [Info] Start training from score -1.119134\n",
      "[LightGBM] [Info] Start training from score -1.081571\n",
      "[LightGBM] [Info] Start training from score -1.095492\n"
     ]
    },
    {
     "name": "stderr",
     "output_type": "stream",
     "text": [
      "/home/thomaz/APP_5/venv/lib/python3.12/site-packages/sklearn/utils/validation.py:2739: UserWarning: X does not have valid feature names, but LGBMClassifier was fitted with feature names\n",
      "  warnings.warn(\n"
     ]
    },
    {
     "name": "stdout",
     "output_type": "stream",
     "text": [
      "[LightGBM] [Info] Auto-choosing col-wise multi-threading, the overhead of testing was 0.586395 seconds.\n",
      "You can set `force_col_wise=true` to remove the overhead.\n",
      "[LightGBM] [Info] Total Bins 268\n",
      "[LightGBM] [Info] Number of data points in the train set: 1280, number of used features: 3\n",
      "[LightGBM] [Info] Start training from score -1.121529\n",
      "[LightGBM] [Info] Start training from score -1.081571\n",
      "[LightGBM] [Info] Start training from score -1.093158\n"
     ]
    },
    {
     "name": "stderr",
     "output_type": "stream",
     "text": [
      "/home/thomaz/APP_5/venv/lib/python3.12/site-packages/sklearn/utils/validation.py:2739: UserWarning: X does not have valid feature names, but LGBMClassifier was fitted with feature names\n",
      "  warnings.warn(\n"
     ]
    },
    {
     "name": "stdout",
     "output_type": "stream",
     "text": [
      "[LightGBM] [Info] Auto-choosing col-wise multi-threading, the overhead of testing was 0.490859 seconds.\n",
      "You can set `force_col_wise=true` to remove the overhead.\n",
      "[LightGBM] [Info] Total Bins 268\n",
      "[LightGBM] [Info] Number of data points in the train set: 1280, number of used features: 3\n",
      "[LightGBM] [Info] Start training from score -1.121529\n",
      "[LightGBM] [Info] Start training from score -1.081571\n",
      "[LightGBM] [Info] Start training from score -1.093158\n"
     ]
    },
    {
     "name": "stderr",
     "output_type": "stream",
     "text": [
      "/home/thomaz/APP_5/venv/lib/python3.12/site-packages/sklearn/utils/validation.py:2739: UserWarning: X does not have valid feature names, but LGBMClassifier was fitted with feature names\n",
      "  warnings.warn(\n"
     ]
    },
    {
     "name": "stdout",
     "output_type": "stream",
     "text": [
      "[LightGBM] [Info] Auto-choosing col-wise multi-threading, the overhead of testing was 0.682270 seconds.\n",
      "You can set `force_col_wise=true` to remove the overhead.\n",
      "[LightGBM] [Info] Total Bins 268\n",
      "[LightGBM] [Info] Number of data points in the train set: 1280, number of used features: 3\n",
      "[LightGBM] [Info] Start training from score -1.121529\n",
      "[LightGBM] [Info] Start training from score -1.079269\n",
      "[LightGBM] [Info] Start training from score -1.095492\n"
     ]
    },
    {
     "name": "stderr",
     "output_type": "stream",
     "text": [
      "/home/thomaz/APP_5/venv/lib/python3.12/site-packages/sklearn/utils/validation.py:2739: UserWarning: X does not have valid feature names, but LGBMClassifier was fitted with feature names\n",
      "  warnings.warn(\n"
     ]
    },
    {
     "name": "stdout",
     "output_type": "stream",
     "text": [
      "[LightGBM] [Info] Auto-choosing col-wise multi-threading, the overhead of testing was 0.661480 seconds.\n",
      "You can set `force_col_wise=true` to remove the overhead.\n",
      "[LightGBM] [Info] Total Bins 268\n",
      "[LightGBM] [Info] Number of data points in the train set: 1280, number of used features: 3\n",
      "[LightGBM] [Info] Start training from score -1.121529\n",
      "[LightGBM] [Info] Start training from score -1.081571\n",
      "[LightGBM] [Info] Start training from score -1.093158\n"
     ]
    },
    {
     "name": "stderr",
     "output_type": "stream",
     "text": [
      "/home/thomaz/APP_5/venv/lib/python3.12/site-packages/sklearn/utils/validation.py:2739: UserWarning: X does not have valid feature names, but LGBMClassifier was fitted with feature names\n",
      "  warnings.warn(\n"
     ]
    },
    {
     "name": "stdout",
     "output_type": "stream",
     "text": [
      "[LightGBM] [Info] Auto-choosing col-wise multi-threading, the overhead of testing was 0.808241 seconds.\n",
      "You can set `force_col_wise=true` to remove the overhead.\n",
      "[LightGBM] [Info] Total Bins 268\n",
      "[LightGBM] [Info] Number of data points in the train set: 1280, number of used features: 3\n",
      "[LightGBM] [Info] Start training from score -1.121529\n",
      "[LightGBM] [Info] Start training from score -1.079269\n",
      "[LightGBM] [Info] Start training from score -1.095492\n"
     ]
    },
    {
     "name": "stderr",
     "output_type": "stream",
     "text": [
      "/home/thomaz/APP_5/venv/lib/python3.12/site-packages/sklearn/utils/validation.py:2739: UserWarning: X does not have valid feature names, but LGBMClassifier was fitted with feature names\n",
      "  warnings.warn(\n"
     ]
    },
    {
     "name": "stdout",
     "output_type": "stream",
     "text": [
      "[LightGBM] [Info] Auto-choosing col-wise multi-threading, the overhead of testing was 0.676992 seconds.\n",
      "You can set `force_col_wise=true` to remove the overhead.\n",
      "[LightGBM] [Info] Total Bins 268\n",
      "[LightGBM] [Info] Number of data points in the train set: 1280, number of used features: 3\n",
      "[LightGBM] [Info] Start training from score -1.121529\n",
      "[LightGBM] [Info] Start training from score -1.079269\n",
      "[LightGBM] [Info] Start training from score -1.095492\n"
     ]
    },
    {
     "name": "stderr",
     "output_type": "stream",
     "text": [
      "/home/thomaz/APP_5/venv/lib/python3.12/site-packages/sklearn/utils/validation.py:2739: UserWarning: X does not have valid feature names, but LGBMClassifier was fitted with feature names\n",
      "  warnings.warn(\n"
     ]
    },
    {
     "name": "stdout",
     "output_type": "stream",
     "text": [
      "[LightGBM] [Info] Auto-choosing col-wise multi-threading, the overhead of testing was 0.613917 seconds.\n",
      "You can set `force_col_wise=true` to remove the overhead.\n",
      "[LightGBM] [Info] Total Bins 267\n",
      "[LightGBM] [Info] Number of data points in the train set: 1280, number of used features: 3\n",
      "[LightGBM] [Info] Start training from score -1.119134\n",
      "[LightGBM] [Info] Start training from score -1.081571\n",
      "[LightGBM] [Info] Start training from score -1.095492\n"
     ]
    },
    {
     "name": "stderr",
     "output_type": "stream",
     "text": [
      "/home/thomaz/APP_5/venv/lib/python3.12/site-packages/sklearn/utils/validation.py:2739: UserWarning: X does not have valid feature names, but LGBMClassifier was fitted with feature names\n",
      "  warnings.warn(\n"
     ]
    },
    {
     "name": "stdout",
     "output_type": "stream",
     "text": [
      "[LightGBM] [Info] Auto-choosing col-wise multi-threading, the overhead of testing was 0.781713 seconds.\n",
      "You can set `force_col_wise=true` to remove the overhead.\n",
      "[LightGBM] [Info] Total Bins 267\n",
      "[LightGBM] [Info] Number of data points in the train set: 1280, number of used features: 3\n",
      "[LightGBM] [Info] Start training from score -1.119134\n",
      "[LightGBM] [Info] Start training from score -1.081571\n",
      "[LightGBM] [Info] Start training from score -1.095492\n"
     ]
    },
    {
     "name": "stderr",
     "output_type": "stream",
     "text": [
      "/home/thomaz/APP_5/venv/lib/python3.12/site-packages/sklearn/utils/validation.py:2739: UserWarning: X does not have valid feature names, but LGBMClassifier was fitted with feature names\n",
      "  warnings.warn(\n"
     ]
    },
    {
     "name": "stdout",
     "output_type": "stream",
     "text": [
      "[LightGBM] [Info] Auto-choosing col-wise multi-threading, the overhead of testing was 0.589105 seconds.\n",
      "You can set `force_col_wise=true` to remove the overhead.\n",
      "[LightGBM] [Info] Total Bins 268\n",
      "[LightGBM] [Info] Number of data points in the train set: 1280, number of used features: 3\n",
      "[LightGBM] [Info] Start training from score -1.121529\n",
      "[LightGBM] [Info] Start training from score -1.081571\n",
      "[LightGBM] [Info] Start training from score -1.093158\n"
     ]
    },
    {
     "name": "stderr",
     "output_type": "stream",
     "text": [
      "/home/thomaz/APP_5/venv/lib/python3.12/site-packages/sklearn/utils/validation.py:2739: UserWarning: X does not have valid feature names, but LGBMClassifier was fitted with feature names\n",
      "  warnings.warn(\n"
     ]
    },
    {
     "name": "stdout",
     "output_type": "stream",
     "text": [
      "[LightGBM] [Info] Auto-choosing col-wise multi-threading, the overhead of testing was 0.597379 seconds.\n",
      "You can set `force_col_wise=true` to remove the overhead.\n",
      "[LightGBM] [Info] Total Bins 268\n",
      "[LightGBM] [Info] Number of data points in the train set: 1280, number of used features: 3\n",
      "[LightGBM] [Info] Start training from score -1.121529\n",
      "[LightGBM] [Info] Start training from score -1.081571\n",
      "[LightGBM] [Info] Start training from score -1.093158\n"
     ]
    },
    {
     "name": "stderr",
     "output_type": "stream",
     "text": [
      "/home/thomaz/APP_5/venv/lib/python3.12/site-packages/sklearn/utils/validation.py:2739: UserWarning: X does not have valid feature names, but LGBMClassifier was fitted with feature names\n",
      "  warnings.warn(\n"
     ]
    },
    {
     "name": "stdout",
     "output_type": "stream",
     "text": [
      "[LightGBM] [Info] Auto-choosing col-wise multi-threading, the overhead of testing was 0.594402 seconds.\n",
      "You can set `force_col_wise=true` to remove the overhead.\n",
      "[LightGBM] [Info] Total Bins 267\n",
      "[LightGBM] [Info] Number of data points in the train set: 1280, number of used features: 3\n",
      "[LightGBM] [Info] Start training from score -1.119134\n",
      "[LightGBM] [Info] Start training from score -1.081571\n",
      "[LightGBM] [Info] Start training from score -1.095492\n"
     ]
    },
    {
     "name": "stderr",
     "output_type": "stream",
     "text": [
      "/home/thomaz/APP_5/venv/lib/python3.12/site-packages/sklearn/utils/validation.py:2739: UserWarning: X does not have valid feature names, but LGBMClassifier was fitted with feature names\n",
      "  warnings.warn(\n"
     ]
    },
    {
     "name": "stdout",
     "output_type": "stream",
     "text": [
      "[LightGBM] [Info] Auto-choosing col-wise multi-threading, the overhead of testing was 0.650359 seconds.\n",
      "You can set `force_col_wise=true` to remove the overhead.\n",
      "[LightGBM] [Info] Total Bins 268\n",
      "[LightGBM] [Info] Number of data points in the train set: 1280, number of used features: 3\n",
      "[LightGBM] [Info] Start training from score -1.121529\n",
      "[LightGBM] [Info] Start training from score -1.079269\n",
      "[LightGBM] [Info] Start training from score -1.095492\n"
     ]
    },
    {
     "name": "stderr",
     "output_type": "stream",
     "text": [
      "/home/thomaz/APP_5/venv/lib/python3.12/site-packages/sklearn/utils/validation.py:2739: UserWarning: X does not have valid feature names, but LGBMClassifier was fitted with feature names\n",
      "  warnings.warn(\n"
     ]
    },
    {
     "name": "stdout",
     "output_type": "stream",
     "text": [
      "[LightGBM] [Info] Auto-choosing col-wise multi-threading, the overhead of testing was 0.576123 seconds.\n",
      "You can set `force_col_wise=true` to remove the overhead.\n",
      "[LightGBM] [Info] Total Bins 267\n",
      "[LightGBM] [Info] Number of data points in the train set: 1280, number of used features: 3\n",
      "[LightGBM] [Info] Start training from score -1.119134\n",
      "[LightGBM] [Info] Start training from score -1.081571\n",
      "[LightGBM] [Info] Start training from score -1.095492\n"
     ]
    },
    {
     "name": "stderr",
     "output_type": "stream",
     "text": [
      "/home/thomaz/APP_5/venv/lib/python3.12/site-packages/sklearn/utils/validation.py:2739: UserWarning: X does not have valid feature names, but LGBMClassifier was fitted with feature names\n",
      "  warnings.warn(\n"
     ]
    },
    {
     "name": "stdout",
     "output_type": "stream",
     "text": [
      "[LightGBM] [Info] Auto-choosing col-wise multi-threading, the overhead of testing was 0.607862 seconds.\n",
      "You can set `force_col_wise=true` to remove the overhead.\n",
      "[LightGBM] [Info] Total Bins 268\n",
      "[LightGBM] [Info] Number of data points in the train set: 1280, number of used features: 3\n",
      "[LightGBM] [Info] Start training from score -1.121529\n",
      "[LightGBM] [Info] Start training from score -1.081571\n",
      "[LightGBM] [Info] Start training from score -1.093158\n"
     ]
    },
    {
     "name": "stderr",
     "output_type": "stream",
     "text": [
      "/home/thomaz/APP_5/venv/lib/python3.12/site-packages/sklearn/utils/validation.py:2739: UserWarning: X does not have valid feature names, but LGBMClassifier was fitted with feature names\n",
      "  warnings.warn(\n"
     ]
    },
    {
     "name": "stdout",
     "output_type": "stream",
     "text": [
      "[LightGBM] [Info] Auto-choosing col-wise multi-threading, the overhead of testing was 0.801405 seconds.\n",
      "You can set `force_col_wise=true` to remove the overhead.\n",
      "[LightGBM] [Info] Total Bins 268\n",
      "[LightGBM] [Info] Number of data points in the train set: 1280, number of used features: 3\n",
      "[LightGBM] [Info] Start training from score -1.121529\n",
      "[LightGBM] [Info] Start training from score -1.079269\n",
      "[LightGBM] [Info] Start training from score -1.095492\n"
     ]
    },
    {
     "name": "stderr",
     "output_type": "stream",
     "text": [
      "/home/thomaz/APP_5/venv/lib/python3.12/site-packages/sklearn/utils/validation.py:2739: UserWarning: X does not have valid feature names, but LGBMClassifier was fitted with feature names\n",
      "  warnings.warn(\n"
     ]
    },
    {
     "name": "stdout",
     "output_type": "stream",
     "text": [
      "[LightGBM] [Info] Auto-choosing col-wise multi-threading, the overhead of testing was 0.552035 seconds.\n",
      "You can set `force_col_wise=true` to remove the overhead.\n",
      "[LightGBM] [Info] Total Bins 267\n",
      "[LightGBM] [Info] Number of data points in the train set: 1280, number of used features: 3\n",
      "[LightGBM] [Info] Start training from score -1.119134\n",
      "[LightGBM] [Info] Start training from score -1.081571\n",
      "[LightGBM] [Info] Start training from score -1.095492\n"
     ]
    },
    {
     "name": "stderr",
     "output_type": "stream",
     "text": [
      "/home/thomaz/APP_5/venv/lib/python3.12/site-packages/sklearn/utils/validation.py:2739: UserWarning: X does not have valid feature names, but LGBMClassifier was fitted with feature names\n",
      "  warnings.warn(\n"
     ]
    },
    {
     "name": "stdout",
     "output_type": "stream",
     "text": [
      "[LightGBM] [Info] Auto-choosing col-wise multi-threading, the overhead of testing was 0.618950 seconds.\n",
      "You can set `force_col_wise=true` to remove the overhead.\n",
      "[LightGBM] [Info] Total Bins 268\n",
      "[LightGBM] [Info] Number of data points in the train set: 1280, number of used features: 3\n",
      "[LightGBM] [Info] Start training from score -1.121529\n",
      "[LightGBM] [Info] Start training from score -1.079269\n",
      "[LightGBM] [Info] Start training from score -1.095492\n"
     ]
    },
    {
     "name": "stderr",
     "output_type": "stream",
     "text": [
      "/home/thomaz/APP_5/venv/lib/python3.12/site-packages/sklearn/utils/validation.py:2739: UserWarning: X does not have valid feature names, but LGBMClassifier was fitted with feature names\n",
      "  warnings.warn(\n"
     ]
    },
    {
     "name": "stdout",
     "output_type": "stream",
     "text": [
      "[LightGBM] [Info] Auto-choosing col-wise multi-threading, the overhead of testing was 0.611434 seconds.\n",
      "You can set `force_col_wise=true` to remove the overhead.\n",
      "[LightGBM] [Info] Total Bins 267\n",
      "[LightGBM] [Info] Number of data points in the train set: 1280, number of used features: 3\n",
      "[LightGBM] [Info] Start training from score -1.119134\n",
      "[LightGBM] [Info] Start training from score -1.081571\n",
      "[LightGBM] [Info] Start training from score -1.095492\n"
     ]
    },
    {
     "name": "stderr",
     "output_type": "stream",
     "text": [
      "/home/thomaz/APP_5/venv/lib/python3.12/site-packages/sklearn/utils/validation.py:2739: UserWarning: X does not have valid feature names, but LGBMClassifier was fitted with feature names\n",
      "  warnings.warn(\n"
     ]
    },
    {
     "name": "stdout",
     "output_type": "stream",
     "text": [
      "[LightGBM] [Info] Auto-choosing col-wise multi-threading, the overhead of testing was 0.607135 seconds.\n",
      "You can set `force_col_wise=true` to remove the overhead.\n",
      "[LightGBM] [Info] Total Bins 268\n",
      "[LightGBM] [Info] Number of data points in the train set: 1280, number of used features: 3\n",
      "[LightGBM] [Info] Start training from score -1.119134\n",
      "[LightGBM] [Info] Start training from score -1.081571\n",
      "[LightGBM] [Info] Start training from score -1.095492\n"
     ]
    },
    {
     "name": "stderr",
     "output_type": "stream",
     "text": [
      "/home/thomaz/APP_5/venv/lib/python3.12/site-packages/sklearn/utils/validation.py:2739: UserWarning: X does not have valid feature names, but LGBMClassifier was fitted with feature names\n",
      "  warnings.warn(\n"
     ]
    },
    {
     "name": "stdout",
     "output_type": "stream",
     "text": [
      "[LightGBM] [Info] Auto-choosing col-wise multi-threading, the overhead of testing was 0.510868 seconds.\n",
      "You can set `force_col_wise=true` to remove the overhead.\n",
      "[LightGBM] [Info] Total Bins 268\n",
      "[LightGBM] [Info] Number of data points in the train set: 1280, number of used features: 3\n",
      "[LightGBM] [Info] Start training from score -1.119134\n",
      "[LightGBM] [Info] Start training from score -1.081571\n",
      "[LightGBM] [Info] Start training from score -1.095492\n"
     ]
    },
    {
     "name": "stderr",
     "output_type": "stream",
     "text": [
      "/home/thomaz/APP_5/venv/lib/python3.12/site-packages/sklearn/utils/validation.py:2739: UserWarning: X does not have valid feature names, but LGBMClassifier was fitted with feature names\n",
      "  warnings.warn(\n"
     ]
    },
    {
     "name": "stdout",
     "output_type": "stream",
     "text": [
      "[LightGBM] [Info] Auto-choosing col-wise multi-threading, the overhead of testing was 0.564406 seconds.\n",
      "You can set `force_col_wise=true` to remove the overhead.\n",
      "[LightGBM] [Info] Total Bins 268\n",
      "[LightGBM] [Info] Number of data points in the train set: 1280, number of used features: 3\n",
      "[LightGBM] [Info] Start training from score -1.119134\n",
      "[LightGBM] [Info] Start training from score -1.081571\n",
      "[LightGBM] [Info] Start training from score -1.095492\n"
     ]
    },
    {
     "name": "stderr",
     "output_type": "stream",
     "text": [
      "/home/thomaz/APP_5/venv/lib/python3.12/site-packages/sklearn/utils/validation.py:2739: UserWarning: X does not have valid feature names, but LGBMClassifier was fitted with feature names\n",
      "  warnings.warn(\n"
     ]
    },
    {
     "name": "stdout",
     "output_type": "stream",
     "text": [
      "[LightGBM] [Info] Auto-choosing col-wise multi-threading, the overhead of testing was 0.670872 seconds.\n",
      "You can set `force_col_wise=true` to remove the overhead.\n",
      "[LightGBM] [Info] Total Bins 267\n",
      "[LightGBM] [Info] Number of data points in the train set: 1280, number of used features: 3\n",
      "[LightGBM] [Info] Start training from score -1.119134\n",
      "[LightGBM] [Info] Start training from score -1.081571\n",
      "[LightGBM] [Info] Start training from score -1.095492\n"
     ]
    },
    {
     "name": "stderr",
     "output_type": "stream",
     "text": [
      "/home/thomaz/APP_5/venv/lib/python3.12/site-packages/sklearn/utils/validation.py:2739: UserWarning: X does not have valid feature names, but LGBMClassifier was fitted with feature names\n",
      "  warnings.warn(\n"
     ]
    },
    {
     "name": "stdout",
     "output_type": "stream",
     "text": [
      "[LightGBM] [Info] Auto-choosing col-wise multi-threading, the overhead of testing was 0.569309 seconds.\n",
      "You can set `force_col_wise=true` to remove the overhead.\n",
      "[LightGBM] [Info] Total Bins 268\n",
      "[LightGBM] [Info] Number of data points in the train set: 1280, number of used features: 3\n",
      "[LightGBM] [Info] Start training from score -1.119134\n",
      "[LightGBM] [Info] Start training from score -1.081571\n",
      "[LightGBM] [Info] Start training from score -1.095492\n"
     ]
    },
    {
     "name": "stderr",
     "output_type": "stream",
     "text": [
      "/home/thomaz/APP_5/venv/lib/python3.12/site-packages/sklearn/utils/validation.py:2739: UserWarning: X does not have valid feature names, but LGBMClassifier was fitted with feature names\n",
      "  warnings.warn(\n"
     ]
    },
    {
     "name": "stdout",
     "output_type": "stream",
     "text": [
      "[LightGBM] [Info] Auto-choosing col-wise multi-threading, the overhead of testing was 0.518734 seconds.\n",
      "You can set `force_col_wise=true` to remove the overhead.\n",
      "[LightGBM] [Info] Total Bins 267\n",
      "[LightGBM] [Info] Number of data points in the train set: 1280, number of used features: 3\n",
      "[LightGBM] [Info] Start training from score -1.119134\n",
      "[LightGBM] [Info] Start training from score -1.081571\n",
      "[LightGBM] [Info] Start training from score -1.095492\n"
     ]
    },
    {
     "name": "stderr",
     "output_type": "stream",
     "text": [
      "/home/thomaz/APP_5/venv/lib/python3.12/site-packages/sklearn/utils/validation.py:2739: UserWarning: X does not have valid feature names, but LGBMClassifier was fitted with feature names\n",
      "  warnings.warn(\n"
     ]
    },
    {
     "name": "stdout",
     "output_type": "stream",
     "text": [
      "[LightGBM] [Info] Auto-choosing col-wise multi-threading, the overhead of testing was 0.559229 seconds.\n",
      "You can set `force_col_wise=true` to remove the overhead.\n",
      "[LightGBM] [Info] Total Bins 268\n",
      "[LightGBM] [Info] Number of data points in the train set: 1280, number of used features: 3\n",
      "[LightGBM] [Info] Start training from score -1.119134\n",
      "[LightGBM] [Info] Start training from score -1.081571\n",
      "[LightGBM] [Info] Start training from score -1.095492\n"
     ]
    },
    {
     "name": "stderr",
     "output_type": "stream",
     "text": [
      "/home/thomaz/APP_5/venv/lib/python3.12/site-packages/sklearn/utils/validation.py:2739: UserWarning: X does not have valid feature names, but LGBMClassifier was fitted with feature names\n",
      "  warnings.warn(\n"
     ]
    },
    {
     "name": "stdout",
     "output_type": "stream",
     "text": [
      "[LightGBM] [Info] Auto-choosing col-wise multi-threading, the overhead of testing was 0.570614 seconds.\n",
      "You can set `force_col_wise=true` to remove the overhead.\n",
      "[LightGBM] [Info] Total Bins 268\n",
      "[LightGBM] [Info] Number of data points in the train set: 1280, number of used features: 3\n",
      "[LightGBM] [Info] Start training from score -1.119134\n",
      "[LightGBM] [Info] Start training from score -1.081571\n",
      "[LightGBM] [Info] Start training from score -1.095492\n"
     ]
    },
    {
     "name": "stderr",
     "output_type": "stream",
     "text": [
      "/home/thomaz/APP_5/venv/lib/python3.12/site-packages/sklearn/utils/validation.py:2739: UserWarning: X does not have valid feature names, but LGBMClassifier was fitted with feature names\n",
      "  warnings.warn(\n"
     ]
    },
    {
     "name": "stdout",
     "output_type": "stream",
     "text": [
      "[LightGBM] [Info] Auto-choosing col-wise multi-threading, the overhead of testing was 0.644388 seconds.\n",
      "You can set `force_col_wise=true` to remove the overhead.\n",
      "[LightGBM] [Info] Total Bins 268\n",
      "[LightGBM] [Info] Number of data points in the train set: 1280, number of used features: 3\n",
      "[LightGBM] [Info] Start training from score -1.119134\n",
      "[LightGBM] [Info] Start training from score -1.081571\n",
      "[LightGBM] [Info] Start training from score -1.095492\n"
     ]
    },
    {
     "name": "stderr",
     "output_type": "stream",
     "text": [
      "/home/thomaz/APP_5/venv/lib/python3.12/site-packages/sklearn/utils/validation.py:2739: UserWarning: X does not have valid feature names, but LGBMClassifier was fitted with feature names\n",
      "  warnings.warn(\n"
     ]
    },
    {
     "name": "stdout",
     "output_type": "stream",
     "text": [
      "[LightGBM] [Info] Auto-choosing col-wise multi-threading, the overhead of testing was 0.628010 seconds.\n",
      "You can set `force_col_wise=true` to remove the overhead.\n",
      "[LightGBM] [Info] Total Bins 268\n",
      "[LightGBM] [Info] Number of data points in the train set: 1280, number of used features: 3\n",
      "[LightGBM] [Info] Start training from score -1.119134\n",
      "[LightGBM] [Info] Start training from score -1.081571\n",
      "[LightGBM] [Info] Start training from score -1.095492\n"
     ]
    },
    {
     "name": "stderr",
     "output_type": "stream",
     "text": [
      "/home/thomaz/APP_5/venv/lib/python3.12/site-packages/sklearn/utils/validation.py:2739: UserWarning: X does not have valid feature names, but LGBMClassifier was fitted with feature names\n",
      "  warnings.warn(\n"
     ]
    },
    {
     "name": "stdout",
     "output_type": "stream",
     "text": [
      "[LightGBM] [Info] Auto-choosing col-wise multi-threading, the overhead of testing was 0.594116 seconds.\n",
      "You can set `force_col_wise=true` to remove the overhead.\n",
      "[LightGBM] [Info] Total Bins 267\n",
      "[LightGBM] [Info] Number of data points in the train set: 1280, number of used features: 3\n",
      "[LightGBM] [Info] Start training from score -1.119134\n",
      "[LightGBM] [Info] Start training from score -1.081571\n",
      "[LightGBM] [Info] Start training from score -1.095492\n"
     ]
    },
    {
     "name": "stderr",
     "output_type": "stream",
     "text": [
      "/home/thomaz/APP_5/venv/lib/python3.12/site-packages/sklearn/utils/validation.py:2739: UserWarning: X does not have valid feature names, but LGBMClassifier was fitted with feature names\n",
      "  warnings.warn(\n"
     ]
    },
    {
     "name": "stdout",
     "output_type": "stream",
     "text": [
      "[LightGBM] [Info] Auto-choosing col-wise multi-threading, the overhead of testing was 0.443427 seconds.\n",
      "You can set `force_col_wise=true` to remove the overhead.\n",
      "[LightGBM] [Info] Total Bins 267\n",
      "[LightGBM] [Info] Number of data points in the train set: 1280, number of used features: 3\n",
      "[LightGBM] [Info] Start training from score -1.119134\n",
      "[LightGBM] [Info] Start training from score -1.081571\n",
      "[LightGBM] [Info] Start training from score -1.095492\n"
     ]
    },
    {
     "name": "stderr",
     "output_type": "stream",
     "text": [
      "/home/thomaz/APP_5/venv/lib/python3.12/site-packages/sklearn/utils/validation.py:2739: UserWarning: X does not have valid feature names, but LGBMClassifier was fitted with feature names\n",
      "  warnings.warn(\n"
     ]
    },
    {
     "name": "stdout",
     "output_type": "stream",
     "text": [
      "[LightGBM] [Info] Auto-choosing col-wise multi-threading, the overhead of testing was 0.741460 seconds.\n",
      "You can set `force_col_wise=true` to remove the overhead.\n",
      "[LightGBM] [Info] Total Bins 268\n",
      "[LightGBM] [Info] Number of data points in the train set: 1280, number of used features: 3\n",
      "[LightGBM] [Info] Start training from score -1.119134\n",
      "[LightGBM] [Info] Start training from score -1.081571\n",
      "[LightGBM] [Info] Start training from score -1.095492\n"
     ]
    },
    {
     "name": "stderr",
     "output_type": "stream",
     "text": [
      "/home/thomaz/APP_5/venv/lib/python3.12/site-packages/sklearn/utils/validation.py:2739: UserWarning: X does not have valid feature names, but LGBMClassifier was fitted with feature names\n",
      "  warnings.warn(\n"
     ]
    },
    {
     "name": "stdout",
     "output_type": "stream",
     "text": [
      "[LightGBM] [Info] Auto-choosing col-wise multi-threading, the overhead of testing was 0.529307 seconds.\n",
      "You can set `force_col_wise=true` to remove the overhead.\n",
      "[LightGBM] [Info] Total Bins 267\n",
      "[LightGBM] [Info] Number of data points in the train set: 1280, number of used features: 3\n",
      "[LightGBM] [Info] Start training from score -1.119134\n",
      "[LightGBM] [Info] Start training from score -1.081571\n",
      "[LightGBM] [Info] Start training from score -1.095492\n"
     ]
    },
    {
     "name": "stderr",
     "output_type": "stream",
     "text": [
      "/home/thomaz/APP_5/venv/lib/python3.12/site-packages/sklearn/utils/validation.py:2739: UserWarning: X does not have valid feature names, but LGBMClassifier was fitted with feature names\n",
      "  warnings.warn(\n"
     ]
    },
    {
     "name": "stdout",
     "output_type": "stream",
     "text": [
      "[LightGBM] [Info] Auto-choosing col-wise multi-threading, the overhead of testing was 0.559116 seconds.\n",
      "You can set `force_col_wise=true` to remove the overhead.\n",
      "[LightGBM] [Info] Total Bins 268\n",
      "[LightGBM] [Info] Number of data points in the train set: 1280, number of used features: 3\n",
      "[LightGBM] [Info] Start training from score -1.119134\n",
      "[LightGBM] [Info] Start training from score -1.081571\n",
      "[LightGBM] [Info] Start training from score -1.095492\n"
     ]
    },
    {
     "name": "stderr",
     "output_type": "stream",
     "text": [
      "/home/thomaz/APP_5/venv/lib/python3.12/site-packages/sklearn/utils/validation.py:2739: UserWarning: X does not have valid feature names, but LGBMClassifier was fitted with feature names\n",
      "  warnings.warn(\n"
     ]
    },
    {
     "name": "stdout",
     "output_type": "stream",
     "text": [
      "[LightGBM] [Info] Auto-choosing col-wise multi-threading, the overhead of testing was 0.526043 seconds.\n",
      "You can set `force_col_wise=true` to remove the overhead.\n",
      "[LightGBM] [Info] Total Bins 268\n",
      "[LightGBM] [Info] Number of data points in the train set: 1280, number of used features: 3\n",
      "[LightGBM] [Info] Start training from score -1.119134\n",
      "[LightGBM] [Info] Start training from score -1.081571\n",
      "[LightGBM] [Info] Start training from score -1.095492\n"
     ]
    },
    {
     "name": "stderr",
     "output_type": "stream",
     "text": [
      "/home/thomaz/APP_5/venv/lib/python3.12/site-packages/sklearn/utils/validation.py:2739: UserWarning: X does not have valid feature names, but LGBMClassifier was fitted with feature names\n",
      "  warnings.warn(\n"
     ]
    },
    {
     "name": "stdout",
     "output_type": "stream",
     "text": [
      "[LightGBM] [Info] Auto-choosing col-wise multi-threading, the overhead of testing was 0.544354 seconds.\n",
      "You can set `force_col_wise=true` to remove the overhead.\n",
      "[LightGBM] [Info] Total Bins 268\n",
      "[LightGBM] [Info] Number of data points in the train set: 1280, number of used features: 3\n",
      "[LightGBM] [Info] Start training from score -1.119134\n",
      "[LightGBM] [Info] Start training from score -1.081571\n",
      "[LightGBM] [Info] Start training from score -1.095492\n"
     ]
    },
    {
     "name": "stderr",
     "output_type": "stream",
     "text": [
      "/home/thomaz/APP_5/venv/lib/python3.12/site-packages/sklearn/utils/validation.py:2739: UserWarning: X does not have valid feature names, but LGBMClassifier was fitted with feature names\n",
      "  warnings.warn(\n"
     ]
    },
    {
     "name": "stdout",
     "output_type": "stream",
     "text": [
      "[LightGBM] [Info] Auto-choosing col-wise multi-threading, the overhead of testing was 0.671027 seconds.\n",
      "You can set `force_col_wise=true` to remove the overhead.\n",
      "[LightGBM] [Info] Total Bins 268\n",
      "[LightGBM] [Info] Number of data points in the train set: 1280, number of used features: 3\n",
      "[LightGBM] [Info] Start training from score -1.121529\n",
      "[LightGBM] [Info] Start training from score -1.079269\n",
      "[LightGBM] [Info] Start training from score -1.095492\n"
     ]
    },
    {
     "name": "stderr",
     "output_type": "stream",
     "text": [
      "/home/thomaz/APP_5/venv/lib/python3.12/site-packages/sklearn/utils/validation.py:2739: UserWarning: X does not have valid feature names, but LGBMClassifier was fitted with feature names\n",
      "  warnings.warn(\n",
      "/home/thomaz/APP_5/venv/lib/python3.12/site-packages/sklearn/utils/validation.py:2739: UserWarning: X does not have valid feature names, but LGBMClassifier was fitted with feature names\n",
      "  warnings.warn(\n"
     ]
    },
    {
     "name": "stdout",
     "output_type": "stream",
     "text": [
      "[LightGBM] [Info] Auto-choosing col-wise multi-threading, the overhead of testing was 0.666909 seconds.\n",
      "You can set `force_col_wise=true` to remove the overhead.\n",
      "[LightGBM] [Info] Total Bins 268\n",
      "[LightGBM] [Info] Number of data points in the train set: 1280, number of used features: 3\n",
      "[LightGBM] [Info] Start training from score -1.119134\n",
      "[LightGBM] [Info] Start training from score -1.081571\n",
      "[LightGBM] [Info] Start training from score -1.095492\n",
      "[LightGBM] [Info] Auto-choosing col-wise multi-threading, the overhead of testing was 0.663542 seconds.\n",
      "You can set `force_col_wise=true` to remove the overhead.\n",
      "[LightGBM] [Info] Total Bins 268\n",
      "[LightGBM] [Info] Number of data points in the train set: 1280, number of used features: 3\n",
      "[LightGBM] [Info] Start training from score -1.119134\n",
      "[LightGBM] [Info] Start training from score -1.083878\n",
      "[LightGBM] [Info] Start training from score -1.093158\n"
     ]
    },
    {
     "name": "stderr",
     "output_type": "stream",
     "text": [
      "/home/thomaz/APP_5/venv/lib/python3.12/site-packages/sklearn/utils/validation.py:2739: UserWarning: X does not have valid feature names, but LGBMClassifier was fitted with feature names\n",
      "  warnings.warn(\n"
     ]
    },
    {
     "name": "stdout",
     "output_type": "stream",
     "text": [
      "[LightGBM] [Info] Auto-choosing col-wise multi-threading, the overhead of testing was 0.559868 seconds.\n",
      "You can set `force_col_wise=true` to remove the overhead.\n",
      "[LightGBM] [Info] Total Bins 268\n",
      "[LightGBM] [Info] Number of data points in the train set: 1280, number of used features: 3\n",
      "[LightGBM] [Info] Start training from score -1.121529\n",
      "[LightGBM] [Info] Start training from score -1.079269\n",
      "[LightGBM] [Info] Start training from score -1.095492\n"
     ]
    },
    {
     "name": "stderr",
     "output_type": "stream",
     "text": [
      "/home/thomaz/APP_5/venv/lib/python3.12/site-packages/sklearn/utils/validation.py:2739: UserWarning: X does not have valid feature names, but LGBMClassifier was fitted with feature names\n",
      "  warnings.warn(\n"
     ]
    },
    {
     "name": "stdout",
     "output_type": "stream",
     "text": [
      "[LightGBM] [Info] Auto-choosing col-wise multi-threading, the overhead of testing was 0.436463 seconds.\n",
      "You can set `force_col_wise=true` to remove the overhead.\n",
      "[LightGBM] [Info] Total Bins 268\n",
      "[LightGBM] [Info] Number of data points in the train set: 1280, number of used features: 3\n",
      "[LightGBM] [Info] Start training from score -1.119134\n",
      "[LightGBM] [Info] Start training from score -1.083878\n"
     ]
    },
    {
     "name": "stderr",
     "output_type": "stream",
     "text": [
      "/home/thomaz/APP_5/venv/lib/python3.12/site-packages/sklearn/utils/validation.py:2739: UserWarning: X does not have valid feature names, but LGBMClassifier was fitted with feature names\n",
      "  warnings.warn(\n"
     ]
    },
    {
     "name": "stdout",
     "output_type": "stream",
     "text": [
      "[LightGBM] [Info] Start training from score -1.093158\n",
      "[LightGBM] [Info] Auto-choosing col-wise multi-threading, the overhead of testing was 0.639485 seconds.\n",
      "You can set `force_col_wise=true` to remove the overhead.\n",
      "[LightGBM] [Info] Total Bins 268\n",
      "[LightGBM] [Info] Number of data points in the train set: 1280, number of used features: 3\n",
      "[LightGBM] [Info] Start training from score -1.121529\n",
      "[LightGBM] [Info] Start training from score -1.079269\n",
      "[LightGBM] [Info] Start training from score -1.095492\n"
     ]
    },
    {
     "name": "stderr",
     "output_type": "stream",
     "text": [
      "/home/thomaz/APP_5/venv/lib/python3.12/site-packages/sklearn/utils/validation.py:2739: UserWarning: X does not have valid feature names, but LGBMClassifier was fitted with feature names\n",
      "  warnings.warn(\n"
     ]
    },
    {
     "name": "stdout",
     "output_type": "stream",
     "text": [
      "[LightGBM] [Info] Auto-choosing col-wise multi-threading, the overhead of testing was 0.492433 seconds.\n",
      "You can set `force_col_wise=true` to remove the overhead.\n",
      "[LightGBM] [Info] Total Bins 268\n",
      "[LightGBM] [Info] Number of data points in the train set: 1280, number of used features: 3\n",
      "[LightGBM] [Info] Start training from score -1.119134\n",
      "[LightGBM] [Info] Start training from score -1.083878\n",
      "[LightGBM] [Info] Start training from score -1.093158\n"
     ]
    },
    {
     "name": "stderr",
     "output_type": "stream",
     "text": [
      "/home/thomaz/APP_5/venv/lib/python3.12/site-packages/sklearn/utils/validation.py:2739: UserWarning: X does not have valid feature names, but LGBMClassifier was fitted with feature names\n",
      "  warnings.warn(\n"
     ]
    },
    {
     "name": "stdout",
     "output_type": "stream",
     "text": [
      "[LightGBM] [Info] Auto-choosing col-wise multi-threading, the overhead of testing was 0.375991 seconds.\n",
      "You can set `force_col_wise=true` to remove the overhead.\n",
      "[LightGBM] [Info] Total Bins 268\n",
      "[LightGBM] [Info] Number of data points in the train set: 1280, number of used features: 3\n",
      "[LightGBM] [Info] Start training from score -1.119134\n",
      "[LightGBM] [Info] Start training from score -1.083878\n",
      "[LightGBM] [Info] Start training from score -1.093158\n"
     ]
    },
    {
     "name": "stderr",
     "output_type": "stream",
     "text": [
      "/home/thomaz/APP_5/venv/lib/python3.12/site-packages/sklearn/utils/validation.py:2739: UserWarning: X does not have valid feature names, but LGBMClassifier was fitted with feature names\n",
      "  warnings.warn(\n"
     ]
    },
    {
     "name": "stdout",
     "output_type": "stream",
     "text": [
      "[LightGBM] [Info] Auto-choosing col-wise multi-threading, the overhead of testing was 0.681924 seconds.\n",
      "You can set `force_col_wise=true` to remove the overhead.\n",
      "[LightGBM] [Info] Total Bins 268\n",
      "[LightGBM] [Info] Number of data points in the train set: 1280, number of used features: 3\n",
      "[LightGBM] [Info] Start training from score -1.119134\n",
      "[LightGBM] [Info] Start training from score -1.083878\n",
      "[LightGBM] [Info] Start training from score -1.093158\n"
     ]
    },
    {
     "name": "stderr",
     "output_type": "stream",
     "text": [
      "/home/thomaz/APP_5/venv/lib/python3.12/site-packages/sklearn/utils/validation.py:2739: UserWarning: X does not have valid feature names, but LGBMClassifier was fitted with feature names\n",
      "  warnings.warn(\n"
     ]
    },
    {
     "name": "stdout",
     "output_type": "stream",
     "text": [
      "[LightGBM] [Info] Auto-choosing col-wise multi-threading, the overhead of testing was 0.588196 seconds.\n",
      "You can set `force_col_wise=true` to remove the overhead.\n",
      "[LightGBM] [Info] Total Bins 268\n",
      "[LightGBM] [Info] Number of data points in the train set: 1280, number of used features: 3\n",
      "[LightGBM] [Info] Start training from score -1.121529\n",
      "[LightGBM] [Info] Start training from score -1.079269\n",
      "[LightGBM] [Info] Start training from score -1.095492\n"
     ]
    },
    {
     "name": "stderr",
     "output_type": "stream",
     "text": [
      "/home/thomaz/APP_5/venv/lib/python3.12/site-packages/sklearn/utils/validation.py:2739: UserWarning: X does not have valid feature names, but LGBMClassifier was fitted with feature names\n",
      "  warnings.warn(\n"
     ]
    },
    {
     "name": "stdout",
     "output_type": "stream",
     "text": [
      "[LightGBM] [Info] Auto-choosing col-wise multi-threading, the overhead of testing was 0.652460 seconds.\n",
      "You can set `force_col_wise=true` to remove the overhead.\n",
      "[LightGBM] [Info] Total Bins 268\n",
      "[LightGBM] [Info] Number of data points in the train set: 1280, number of used features: 3\n",
      "[LightGBM] [Info] Start training from score -1.119134\n",
      "[LightGBM] [Info] Start training from score -1.081571\n",
      "[LightGBM] [Info] Start training from score -1.095492\n"
     ]
    },
    {
     "name": "stderr",
     "output_type": "stream",
     "text": [
      "/home/thomaz/APP_5/venv/lib/python3.12/site-packages/sklearn/utils/validation.py:2739: UserWarning: X does not have valid feature names, but LGBMClassifier was fitted with feature names\n",
      "  warnings.warn(\n"
     ]
    },
    {
     "name": "stdout",
     "output_type": "stream",
     "text": [
      "[LightGBM] [Info] Auto-choosing col-wise multi-threading, the overhead of testing was 0.646219 seconds.\n",
      "You can set `force_col_wise=true` to remove the overhead.\n",
      "[LightGBM] [Info] Total Bins 268\n",
      "[LightGBM] [Info] Number of data points in the train set: 1280, number of used features: 3\n",
      "[LightGBM] [Info] Start training from score -1.119134\n",
      "[LightGBM] [Info] Start training from score -1.081571\n",
      "[LightGBM] [Info] Start training from score -1.095492\n"
     ]
    },
    {
     "name": "stderr",
     "output_type": "stream",
     "text": [
      "/home/thomaz/APP_5/venv/lib/python3.12/site-packages/sklearn/utils/validation.py:2739: UserWarning: X does not have valid feature names, but LGBMClassifier was fitted with feature names\n",
      "  warnings.warn(\n"
     ]
    },
    {
     "name": "stdout",
     "output_type": "stream",
     "text": [
      "[LightGBM] [Info] Auto-choosing col-wise multi-threading, the overhead of testing was 0.509483 seconds.\n",
      "You can set `force_col_wise=true` to remove the overhead.\n",
      "[LightGBM] [Info] Total Bins 268\n",
      "[LightGBM] [Info] Number of data points in the train set: 1280, number of used features: 3\n",
      "[LightGBM] [Info] Start training from score -1.119134\n",
      "[LightGBM] [Info] Start training from score -1.081571\n",
      "[LightGBM] [Info] Start training from score -1.095492\n"
     ]
    },
    {
     "name": "stderr",
     "output_type": "stream",
     "text": [
      "/home/thomaz/APP_5/venv/lib/python3.12/site-packages/sklearn/utils/validation.py:2739: UserWarning: X does not have valid feature names, but LGBMClassifier was fitted with feature names\n",
      "  warnings.warn(\n"
     ]
    },
    {
     "name": "stdout",
     "output_type": "stream",
     "text": [
      "[LightGBM] [Info] Auto-choosing col-wise multi-threading, the overhead of testing was 0.493422 seconds.\n",
      "You can set `force_col_wise=true` to remove the overhead.\n",
      "[LightGBM] [Info] Total Bins 268\n",
      "[LightGBM] [Info] Number of data points in the train set: 1280, number of used features: 3\n",
      "[LightGBM] [Info] Start training from score -1.119134\n",
      "[LightGBM] [Info] Start training from score -1.081571\n",
      "[LightGBM] [Info] Start training from score -1.095492\n"
     ]
    },
    {
     "name": "stderr",
     "output_type": "stream",
     "text": [
      "/home/thomaz/APP_5/venv/lib/python3.12/site-packages/sklearn/utils/validation.py:2739: UserWarning: X does not have valid feature names, but LGBMClassifier was fitted with feature names\n",
      "  warnings.warn(\n"
     ]
    },
    {
     "name": "stdout",
     "output_type": "stream",
     "text": [
      "[LightGBM] [Info] Auto-choosing col-wise multi-threading, the overhead of testing was 0.623656 seconds.\n",
      "You can set `force_col_wise=true` to remove the overhead.\n",
      "[LightGBM] [Info] Total Bins 268\n",
      "[LightGBM] [Info] Number of data points in the train set: 1280, number of used features: 3\n",
      "[LightGBM] [Info] Start training from score -1.121529\n",
      "[LightGBM] [Info] Start training from score -1.079269\n",
      "[LightGBM] [Info] Start training from score -1.095492\n"
     ]
    },
    {
     "name": "stderr",
     "output_type": "stream",
     "text": [
      "/home/thomaz/APP_5/venv/lib/python3.12/site-packages/sklearn/utils/validation.py:2739: UserWarning: X does not have valid feature names, but LGBMClassifier was fitted with feature names\n",
      "  warnings.warn(\n"
     ]
    },
    {
     "name": "stdout",
     "output_type": "stream",
     "text": [
      "[LightGBM] [Info] Auto-choosing col-wise multi-threading, the overhead of testing was 0.337032 seconds.\n",
      "You can set `force_col_wise=true` to remove the overhead.\n",
      "[LightGBM] [Info] Total Bins 268\n",
      "[LightGBM] [Info] Number of data points in the train set: 1280, number of used features: 3\n",
      "[LightGBM] [Info] Start training from score -1.121529\n",
      "[LightGBM] [Info] Start training from score -1.079269\n",
      "[LightGBM] [Info] Start training from score -1.095492\n"
     ]
    },
    {
     "name": "stderr",
     "output_type": "stream",
     "text": [
      "/home/thomaz/APP_5/venv/lib/python3.12/site-packages/sklearn/utils/validation.py:2739: UserWarning: X does not have valid feature names, but LGBMClassifier was fitted with feature names\n",
      "  warnings.warn(\n"
     ]
    },
    {
     "name": "stdout",
     "output_type": "stream",
     "text": [
      "[LightGBM] [Info] Auto-choosing col-wise multi-threading, the overhead of testing was 0.639543 seconds.\n",
      "You can set `force_col_wise=true` to remove the overhead.\n",
      "[LightGBM] [Info] Total Bins 268\n",
      "[LightGBM] [Info] Number of data points in the train set: 1280, number of used features: 3\n",
      "[LightGBM] [Info] Start training from score -1.119134\n",
      "[LightGBM] [Info] Start training from score -1.081571\n",
      "[LightGBM] [Info] Start training from score -1.095492\n"
     ]
    },
    {
     "name": "stderr",
     "output_type": "stream",
     "text": [
      "/home/thomaz/APP_5/venv/lib/python3.12/site-packages/sklearn/utils/validation.py:2739: UserWarning: X does not have valid feature names, but LGBMClassifier was fitted with feature names\n",
      "  warnings.warn(\n"
     ]
    },
    {
     "name": "stdout",
     "output_type": "stream",
     "text": [
      "[LightGBM] [Info] Auto-choosing col-wise multi-threading, the overhead of testing was 0.573552 seconds.\n",
      "You can set `force_col_wise=true` to remove the overhead.\n",
      "[LightGBM] [Info] Total Bins 268\n",
      "[LightGBM] [Info] Number of data points in the train set: 1280, number of used features: 3\n",
      "[LightGBM] [Info] Start training from score -1.119134\n",
      "[LightGBM] [Info] Start training from score -1.083878\n",
      "[LightGBM] [Info] Start training from score -1.093158\n"
     ]
    },
    {
     "name": "stderr",
     "output_type": "stream",
     "text": [
      "/home/thomaz/APP_5/venv/lib/python3.12/site-packages/sklearn/utils/validation.py:2739: UserWarning: X does not have valid feature names, but LGBMClassifier was fitted with feature names\n",
      "  warnings.warn(\n"
     ]
    },
    {
     "name": "stdout",
     "output_type": "stream",
     "text": [
      "[LightGBM] [Info] Auto-choosing col-wise multi-threading, the overhead of testing was 0.497810 seconds.\n",
      "You can set `force_col_wise=true` to remove the overhead.\n",
      "[LightGBM] [Info] Total Bins 268\n",
      "[LightGBM] [Info] Number of data points in the train set: 1280, number of used features: 3\n",
      "[LightGBM] [Info] Start training from score -1.119134\n",
      "[LightGBM] [Info] Start training from score -1.081571\n",
      "[LightGBM] [Info] Start training from score -1.095492\n"
     ]
    },
    {
     "name": "stderr",
     "output_type": "stream",
     "text": [
      "/home/thomaz/APP_5/venv/lib/python3.12/site-packages/sklearn/utils/validation.py:2739: UserWarning: X does not have valid feature names, but LGBMClassifier was fitted with feature names\n",
      "  warnings.warn(\n"
     ]
    },
    {
     "name": "stdout",
     "output_type": "stream",
     "text": [
      "[LightGBM] [Info] Auto-choosing col-wise multi-threading, the overhead of testing was 0.544539 seconds.\n",
      "You can set `force_col_wise=true` to remove the overhead.\n",
      "[LightGBM] [Info] Total Bins 268\n",
      "[LightGBM] [Info] Number of data points in the train set: 1280, number of used features: 3\n",
      "[LightGBM] [Info] Start training from score -1.121529\n",
      "[LightGBM] [Info] Start training from score -1.079269\n",
      "[LightGBM] [Info] Start training from score -1.095492\n"
     ]
    },
    {
     "name": "stderr",
     "output_type": "stream",
     "text": [
      "/home/thomaz/APP_5/venv/lib/python3.12/site-packages/sklearn/utils/validation.py:2739: UserWarning: X does not have valid feature names, but LGBMClassifier was fitted with feature names\n",
      "  warnings.warn(\n"
     ]
    },
    {
     "name": "stdout",
     "output_type": "stream",
     "text": [
      "[LightGBM] [Info] Auto-choosing col-wise multi-threading, the overhead of testing was 0.599644 seconds.\n",
      "You can set `force_col_wise=true` to remove the overhead.\n",
      "[LightGBM] [Info] Total Bins 268\n",
      "[LightGBM] [Info] Number of data points in the train set: 1280, number of used features: 3\n",
      "[LightGBM] [Info] Start training from score -1.119134\n",
      "[LightGBM] [Info] Start training from score -1.083878\n",
      "[LightGBM] [Info] Start training from score -1.093158\n"
     ]
    },
    {
     "name": "stderr",
     "output_type": "stream",
     "text": [
      "/home/thomaz/APP_5/venv/lib/python3.12/site-packages/sklearn/utils/validation.py:2739: UserWarning: X does not have valid feature names, but LGBMClassifier was fitted with feature names\n",
      "  warnings.warn(\n"
     ]
    },
    {
     "name": "stdout",
     "output_type": "stream",
     "text": [
      "[LightGBM] [Info] Auto-choosing col-wise multi-threading, the overhead of testing was 0.583457 seconds.\n",
      "You can set `force_col_wise=true` to remove the overhead.\n",
      "[LightGBM] [Info] Total Bins 268\n",
      "[LightGBM] [Info] Number of data points in the train set: 1280, number of used features: 3\n",
      "[LightGBM] [Info] Start training from score -1.121529\n",
      "[LightGBM] [Info] Start training from score -1.079269\n",
      "[LightGBM] [Info] Start training from score -1.095492\n"
     ]
    },
    {
     "name": "stderr",
     "output_type": "stream",
     "text": [
      "/home/thomaz/APP_5/venv/lib/python3.12/site-packages/sklearn/utils/validation.py:2739: UserWarning: X does not have valid feature names, but LGBMClassifier was fitted with feature names\n",
      "  warnings.warn(\n",
      "/home/thomaz/APP_5/venv/lib/python3.12/site-packages/sklearn/utils/validation.py:2739: UserWarning: X does not have valid feature names, but LGBMClassifier was fitted with feature names\n",
      "  warnings.warn(\n"
     ]
    },
    {
     "name": "stdout",
     "output_type": "stream",
     "text": [
      "[LightGBM] [Info] Auto-choosing col-wise multi-threading, the overhead of testing was 0.564272 seconds.\n",
      "You can set `force_col_wise=true` to remove the overhead.\n",
      "[LightGBM] [Info] Total Bins 268\n",
      "[LightGBM] [Info] Auto-choosing col-wise multi-threading, the overhead of testing was 0.584954 seconds.\n",
      "You can set `force_col_wise=true` to remove the overhead.\n",
      "[LightGBM] [Info] Total Bins 268\n",
      "[LightGBM] [Info] Number of data points in the train set: 1280, number of used features: 3\n",
      "[LightGBM] [Info] Number of data points in the train set: 1280, number of used features: 3\n",
      "[LightGBM] [Info] Start training from score -1.121529\n",
      "[LightGBM] [Info] Start training from score -1.119134\n",
      "[LightGBM] [Info] Start training from score -1.079269\n",
      "[LightGBM] [Info] Start training from score -1.095492\n",
      "[LightGBM] [Info] Start training from score -1.083878\n",
      "[LightGBM] [Info] Start training from score -1.093158\n"
     ]
    },
    {
     "name": "stderr",
     "output_type": "stream",
     "text": [
      "/home/thomaz/APP_5/venv/lib/python3.12/site-packages/sklearn/utils/validation.py:2739: UserWarning: X does not have valid feature names, but LGBMClassifier was fitted with feature names\n",
      "  warnings.warn(\n"
     ]
    },
    {
     "name": "stdout",
     "output_type": "stream",
     "text": [
      "[LightGBM] [Info] Auto-choosing col-wise multi-threading, the overhead of testing was 0.589531 seconds.\n",
      "You can set `force_col_wise=true` to remove the overhead.\n",
      "[LightGBM] [Info] Total Bins 268\n",
      "[LightGBM] [Info] Number of data points in the train set: 1280, number of used features: 3\n",
      "[LightGBM] [Info] Start training from score -1.119134\n",
      "[LightGBM] [Info] Start training from score -1.083878\n",
      "[LightGBM] [Info] Start training from score -1.093158\n"
     ]
    },
    {
     "name": "stderr",
     "output_type": "stream",
     "text": [
      "/home/thomaz/APP_5/venv/lib/python3.12/site-packages/sklearn/utils/validation.py:2739: UserWarning: X does not have valid feature names, but LGBMClassifier was fitted with feature names\n",
      "  warnings.warn(\n"
     ]
    },
    {
     "name": "stdout",
     "output_type": "stream",
     "text": [
      "[LightGBM] [Info] Auto-choosing col-wise multi-threading, the overhead of testing was 0.649714 seconds.\n",
      "You can set `force_col_wise=true` to remove the overhead.\n",
      "[LightGBM] [Info] Total Bins 268\n",
      "[LightGBM] [Info] Number of data points in the train set: 1280, number of used features: 3\n",
      "[LightGBM] [Info] Start training from score -1.119134\n",
      "[LightGBM] [Info] Start training from score -1.083878\n",
      "[LightGBM] [Info] Start training from score -1.093158\n"
     ]
    },
    {
     "name": "stderr",
     "output_type": "stream",
     "text": [
      "/home/thomaz/APP_5/venv/lib/python3.12/site-packages/sklearn/utils/validation.py:2739: UserWarning: X does not have valid feature names, but LGBMClassifier was fitted with feature names\n",
      "  warnings.warn(\n"
     ]
    },
    {
     "name": "stdout",
     "output_type": "stream",
     "text": [
      "[LightGBM] [Info] Auto-choosing col-wise multi-threading, the overhead of testing was 0.599532 seconds.\n",
      "You can set `force_col_wise=true` to remove the overhead.\n",
      "[LightGBM] [Info] Total Bins 268\n",
      "[LightGBM] [Info] Number of data points in the train set: 1280, number of used features: 3\n",
      "[LightGBM] [Info] Start training from score -1.121529\n",
      "[LightGBM] [Info] Start training from score -1.079269\n",
      "[LightGBM] [Info] Start training from score -1.095492\n"
     ]
    },
    {
     "name": "stderr",
     "output_type": "stream",
     "text": [
      "/home/thomaz/APP_5/venv/lib/python3.12/site-packages/sklearn/utils/validation.py:2739: UserWarning: X does not have valid feature names, but LGBMClassifier was fitted with feature names\n",
      "  warnings.warn(\n"
     ]
    },
    {
     "name": "stdout",
     "output_type": "stream",
     "text": [
      "[LightGBM] [Info] Auto-choosing col-wise multi-threading, the overhead of testing was 0.590420 seconds.\n",
      "You can set `force_col_wise=true` to remove the overhead.\n",
      "[LightGBM] [Info] Total Bins 268\n",
      "[LightGBM] [Info] Number of data points in the train set: 1280, number of used features: 3\n",
      "[LightGBM] [Info] Start training from score -1.119134\n",
      "[LightGBM] [Info] Start training from score -1.083878\n",
      "[LightGBM] [Info] Start training from score -1.093158\n"
     ]
    },
    {
     "name": "stderr",
     "output_type": "stream",
     "text": [
      "/home/thomaz/APP_5/venv/lib/python3.12/site-packages/sklearn/utils/validation.py:2739: UserWarning: X does not have valid feature names, but LGBMClassifier was fitted with feature names\n",
      "  warnings.warn(\n"
     ]
    },
    {
     "name": "stdout",
     "output_type": "stream",
     "text": [
      "[LightGBM] [Info] Auto-choosing col-wise multi-threading, the overhead of testing was 0.600890 seconds.\n",
      "You can set `force_col_wise=true` to remove the overhead.\n",
      "[LightGBM] [Info] Total Bins 268\n",
      "[LightGBM] [Info] Number of data points in the train set: 1280, number of used features: 3\n",
      "[LightGBM] [Info] Start training from score -1.119134\n",
      "[LightGBM] [Info] Start training from score -1.081571\n",
      "[LightGBM] [Info] Start training from score -1.095492\n"
     ]
    },
    {
     "name": "stderr",
     "output_type": "stream",
     "text": [
      "/home/thomaz/APP_5/venv/lib/python3.12/site-packages/sklearn/utils/validation.py:2739: UserWarning: X does not have valid feature names, but LGBMClassifier was fitted with feature names\n",
      "  warnings.warn(\n"
     ]
    },
    {
     "name": "stdout",
     "output_type": "stream",
     "text": [
      "[LightGBM] [Info] Auto-choosing col-wise multi-threading, the overhead of testing was 0.547155 seconds.\n",
      "You can set `force_col_wise=true` to remove the overhead.\n",
      "[LightGBM] [Info] Total Bins 268\n",
      "[LightGBM] [Info] Number of data points in the train set: 1280, number of used features: 3\n",
      "[LightGBM] [Info] Start training from score -1.119134\n",
      "[LightGBM] [Info] Start training from score -1.081571\n",
      "[LightGBM] [Info] Start training from score -1.095492\n"
     ]
    },
    {
     "name": "stderr",
     "output_type": "stream",
     "text": [
      "/home/thomaz/APP_5/venv/lib/python3.12/site-packages/sklearn/utils/validation.py:2739: UserWarning: X does not have valid feature names, but LGBMClassifier was fitted with feature names\n",
      "  warnings.warn(\n"
     ]
    },
    {
     "name": "stdout",
     "output_type": "stream",
     "text": [
      "[LightGBM] [Info] Auto-choosing col-wise multi-threading, the overhead of testing was 0.659486 seconds.\n",
      "You can set `force_col_wise=true` to remove the overhead.\n",
      "[LightGBM] [Info] Total Bins 268\n",
      "[LightGBM] [Info] Number of data points in the train set: 1280, number of used features: 3\n",
      "[LightGBM] [Info] Start training from score -1.119134\n",
      "[LightGBM] [Info] Start training from score -1.083878\n",
      "[LightGBM] [Info] Start training from score -1.093158\n"
     ]
    },
    {
     "name": "stderr",
     "output_type": "stream",
     "text": [
      "/home/thomaz/APP_5/venv/lib/python3.12/site-packages/sklearn/utils/validation.py:2739: UserWarning: X does not have valid feature names, but LGBMClassifier was fitted with feature names\n",
      "  warnings.warn(\n"
     ]
    },
    {
     "name": "stdout",
     "output_type": "stream",
     "text": [
      "[LightGBM] [Info] Auto-choosing col-wise multi-threading, the overhead of testing was 0.628459 seconds.\n",
      "You can set `force_col_wise=true` to remove the overhead.\n",
      "[LightGBM] [Info] Total Bins 268\n",
      "[LightGBM] [Info] Number of data points in the train set: 1280, number of used features: 3\n",
      "[LightGBM] [Info] Start training from score -1.119134\n",
      "[LightGBM] [Info] Start training from score -1.081571\n",
      "[LightGBM] [Info] Start training from score -1.095492\n"
     ]
    },
    {
     "name": "stderr",
     "output_type": "stream",
     "text": [
      "/home/thomaz/APP_5/venv/lib/python3.12/site-packages/sklearn/utils/validation.py:2739: UserWarning: X does not have valid feature names, but LGBMClassifier was fitted with feature names\n",
      "  warnings.warn(\n"
     ]
    },
    {
     "name": "stdout",
     "output_type": "stream",
     "text": [
      "[LightGBM] [Info] Auto-choosing col-wise multi-threading, the overhead of testing was 0.528581 seconds.\n",
      "You can set `force_col_wise=true` to remove the overhead.\n",
      "[LightGBM] [Info] Total Bins 268\n",
      "[LightGBM] [Info] Number of data points in the train set: 1280, number of used features: 3\n",
      "[LightGBM] [Info] Start training from score -1.119134\n",
      "[LightGBM] [Info] Start training from score -1.081571\n",
      "[LightGBM] [Info] Start training from score -1.095492\n"
     ]
    },
    {
     "name": "stderr",
     "output_type": "stream",
     "text": [
      "/home/thomaz/APP_5/venv/lib/python3.12/site-packages/sklearn/utils/validation.py:2739: UserWarning: X does not have valid feature names, but LGBMClassifier was fitted with feature names\n",
      "  warnings.warn(\n"
     ]
    },
    {
     "name": "stdout",
     "output_type": "stream",
     "text": [
      "[LightGBM] [Info] Auto-choosing col-wise multi-threading, the overhead of testing was 0.584599 seconds.\n",
      "You can set `force_col_wise=true` to remove the overhead.\n",
      "[LightGBM] [Info] Total Bins 268\n",
      "[LightGBM] [Info] Number of data points in the train set: 1280, number of used features: 3\n",
      "[LightGBM] [Info] Start training from score -1.121529\n",
      "[LightGBM] [Info] Start training from score -1.079269\n",
      "[LightGBM] [Info] Start training from score -1.095492\n"
     ]
    },
    {
     "name": "stderr",
     "output_type": "stream",
     "text": [
      "/home/thomaz/APP_5/venv/lib/python3.12/site-packages/sklearn/utils/validation.py:2739: UserWarning: X does not have valid feature names, but LGBMClassifier was fitted with feature names\n",
      "  warnings.warn(\n"
     ]
    },
    {
     "name": "stdout",
     "output_type": "stream",
     "text": [
      "[LightGBM] [Info] Auto-choosing col-wise multi-threading, the overhead of testing was 0.619744 seconds.\n",
      "You can set `force_col_wise=true` to remove the overhead.\n",
      "[LightGBM] [Info] Total Bins 268\n",
      "[LightGBM] [Info] Number of data points in the train set: 1280, number of used features: 3\n",
      "[LightGBM] [Info] Start training from score -1.119134\n",
      "[LightGBM] [Info] Start training from score -1.081571\n",
      "[LightGBM] [Info] Start training from score -1.095492\n"
     ]
    },
    {
     "name": "stderr",
     "output_type": "stream",
     "text": [
      "/home/thomaz/APP_5/venv/lib/python3.12/site-packages/sklearn/utils/validation.py:2739: UserWarning: X does not have valid feature names, but LGBMClassifier was fitted with feature names\n",
      "  warnings.warn(\n"
     ]
    },
    {
     "name": "stdout",
     "output_type": "stream",
     "text": [
      "[LightGBM] [Info] Auto-choosing col-wise multi-threading, the overhead of testing was 0.591881 seconds.\n",
      "You can set `force_col_wise=true` to remove the overhead.\n",
      "[LightGBM] [Info] Total Bins 268\n",
      "[LightGBM] [Info] Number of data points in the train set: 1280, number of used features: 3\n",
      "[LightGBM] [Info] Start training from score -1.121529\n",
      "[LightGBM] [Info] Start training from score -1.079269\n",
      "[LightGBM] [Info] Start training from score -1.095492\n"
     ]
    },
    {
     "name": "stderr",
     "output_type": "stream",
     "text": [
      "/home/thomaz/APP_5/venv/lib/python3.12/site-packages/sklearn/utils/validation.py:2739: UserWarning: X does not have valid feature names, but LGBMClassifier was fitted with feature names\n",
      "  warnings.warn(\n",
      "/home/thomaz/APP_5/venv/lib/python3.12/site-packages/sklearn/utils/validation.py:2739: UserWarning: X does not have valid feature names, but LGBMClassifier was fitted with feature names\n",
      "  warnings.warn(\n"
     ]
    },
    {
     "name": "stdout",
     "output_type": "stream",
     "text": [
      "[CV] END stacking__final_estimator__C=10, stacking__final_estimator__penalty=l2, stacking__final_estimator__solver=saga; total time=527.3min\n"
     ]
    },
    {
     "name": "stderr",
     "output_type": "stream",
     "text": [
      "/home/thomaz/APP_5/venv/lib/python3.12/site-packages/sklearn/utils/validation.py:2739: UserWarning: X does not have valid feature names, but LGBMClassifier was fitted with feature names\n",
      "  warnings.warn(\n",
      "/home/thomaz/APP_5/venv/lib/python3.12/site-packages/sklearn/utils/validation.py:2739: UserWarning: X does not have valid feature names, but LGBMClassifier was fitted with feature names\n",
      "  warnings.warn(\n"
     ]
    },
    {
     "name": "stdout",
     "output_type": "stream",
     "text": [
      "[CV] END stacking__final_estimator__C=0.1, stacking__final_estimator__penalty=l2, stacking__final_estimator__solver=lbfgs; total time=528.1min\n"
     ]
    },
    {
     "name": "stderr",
     "output_type": "stream",
     "text": [
      "/home/thomaz/APP_5/venv/lib/python3.12/site-packages/sklearn/utils/validation.py:2739: UserWarning: X does not have valid feature names, but LGBMClassifier was fitted with feature names\n",
      "  warnings.warn(\n",
      "/home/thomaz/APP_5/venv/lib/python3.12/site-packages/sklearn/utils/validation.py:2739: UserWarning: X does not have valid feature names, but LGBMClassifier was fitted with feature names\n",
      "  warnings.warn(\n"
     ]
    },
    {
     "name": "stdout",
     "output_type": "stream",
     "text": [
      "[CV] END stacking__final_estimator__C=10, stacking__final_estimator__penalty=l2, stacking__final_estimator__solver=lbfgs; total time=528.9min\n"
     ]
    },
    {
     "name": "stderr",
     "output_type": "stream",
     "text": [
      "/home/thomaz/APP_5/venv/lib/python3.12/site-packages/sklearn/utils/validation.py:2739: UserWarning: X does not have valid feature names, but LGBMClassifier was fitted with feature names\n",
      "  warnings.warn(\n",
      "/home/thomaz/APP_5/venv/lib/python3.12/site-packages/sklearn/utils/validation.py:2739: UserWarning: X does not have valid feature names, but LGBMClassifier was fitted with feature names\n",
      "  warnings.warn(\n"
     ]
    },
    {
     "name": "stdout",
     "output_type": "stream",
     "text": [
      "[CV] END stacking__final_estimator__C=1.0, stacking__final_estimator__penalty=l2, stacking__final_estimator__solver=lbfgs; total time=529.2min\n"
     ]
    },
    {
     "name": "stderr",
     "output_type": "stream",
     "text": [
      "/home/thomaz/APP_5/venv/lib/python3.12/site-packages/sklearn/utils/validation.py:2739: UserWarning: X does not have valid feature names, but LGBMClassifier was fitted with feature names\n",
      "  warnings.warn(\n",
      "/home/thomaz/APP_5/venv/lib/python3.12/site-packages/sklearn/utils/validation.py:2739: UserWarning: X does not have valid feature names, but LGBMClassifier was fitted with feature names\n",
      "  warnings.warn(\n"
     ]
    },
    {
     "name": "stdout",
     "output_type": "stream",
     "text": [
      "[CV] END stacking__final_estimator__C=1.0, stacking__final_estimator__penalty=l2, stacking__final_estimator__solver=saga; total time=529.5min\n"
     ]
    },
    {
     "name": "stderr",
     "output_type": "stream",
     "text": [
      "/home/thomaz/APP_5/venv/lib/python3.12/site-packages/sklearn/utils/validation.py:2739: UserWarning: X does not have valid feature names, but LGBMClassifier was fitted with feature names\n",
      "  warnings.warn(\n",
      "/home/thomaz/APP_5/venv/lib/python3.12/site-packages/sklearn/utils/validation.py:2739: UserWarning: X does not have valid feature names, but LGBMClassifier was fitted with feature names\n",
      "  warnings.warn(\n"
     ]
    },
    {
     "name": "stdout",
     "output_type": "stream",
     "text": [
      "[CV] END stacking__final_estimator__C=0.1, stacking__final_estimator__penalty=l2, stacking__final_estimator__solver=saga; total time=529.4min\n"
     ]
    },
    {
     "name": "stderr",
     "output_type": "stream",
     "text": [
      "/home/thomaz/APP_5/venv/lib/python3.12/site-packages/sklearn/utils/validation.py:2739: UserWarning: X does not have valid feature names, but LGBMClassifier was fitted with feature names\n",
      "  warnings.warn(\n",
      "/home/thomaz/APP_5/venv/lib/python3.12/site-packages/sklearn/utils/validation.py:2739: UserWarning: X does not have valid feature names, but LGBMClassifier was fitted with feature names\n",
      "  warnings.warn(\n"
     ]
    },
    {
     "name": "stdout",
     "output_type": "stream",
     "text": [
      "[CV] END stacking__final_estimator__C=0.1, stacking__final_estimator__penalty=l2, stacking__final_estimator__solver=lbfgs; total time=530.4min\n"
     ]
    },
    {
     "name": "stderr",
     "output_type": "stream",
     "text": [
      "/home/thomaz/APP_5/venv/lib/python3.12/site-packages/sklearn/utils/validation.py:2739: UserWarning: X does not have valid feature names, but LGBMClassifier was fitted with feature names\n",
      "  warnings.warn(\n",
      "/home/thomaz/APP_5/venv/lib/python3.12/site-packages/sklearn/utils/validation.py:2739: UserWarning: X does not have valid feature names, but LGBMClassifier was fitted with feature names\n",
      "  warnings.warn(\n"
     ]
    },
    {
     "name": "stdout",
     "output_type": "stream",
     "text": [
      "[CV] END stacking__final_estimator__C=10, stacking__final_estimator__penalty=l2, stacking__final_estimator__solver=saga; total time=530.6min\n"
     ]
    },
    {
     "name": "stderr",
     "output_type": "stream",
     "text": [
      "/home/thomaz/APP_5/venv/lib/python3.12/site-packages/sklearn/utils/validation.py:2739: UserWarning: X does not have valid feature names, but LGBMClassifier was fitted with feature names\n",
      "  warnings.warn(\n",
      "/home/thomaz/APP_5/venv/lib/python3.12/site-packages/sklearn/utils/validation.py:2739: UserWarning: X does not have valid feature names, but LGBMClassifier was fitted with feature names\n",
      "  warnings.warn(\n"
     ]
    },
    {
     "name": "stdout",
     "output_type": "stream",
     "text": [
      "[CV] END stacking__final_estimator__C=10, stacking__final_estimator__penalty=l2, stacking__final_estimator__solver=lbfgs; total time=530.9min\n"
     ]
    },
    {
     "name": "stderr",
     "output_type": "stream",
     "text": [
      "/home/thomaz/APP_5/venv/lib/python3.12/site-packages/sklearn/utils/validation.py:2739: UserWarning: X does not have valid feature names, but LGBMClassifier was fitted with feature names\n",
      "  warnings.warn(\n",
      "/home/thomaz/APP_5/venv/lib/python3.12/site-packages/sklearn/utils/validation.py:2739: UserWarning: X does not have valid feature names, but LGBMClassifier was fitted with feature names\n",
      "  warnings.warn(\n",
      "/home/thomaz/APP_5/venv/lib/python3.12/site-packages/sklearn/utils/validation.py:2739: UserWarning: X does not have valid feature names, but LGBMClassifier was fitted with feature names\n",
      "  warnings.warn(\n"
     ]
    },
    {
     "name": "stdout",
     "output_type": "stream",
     "text": [
      "[CV] END stacking__final_estimator__C=1.0, stacking__final_estimator__penalty=l2, stacking__final_estimator__solver=saga; total time=531.4min\n"
     ]
    },
    {
     "name": "stderr",
     "output_type": "stream",
     "text": [
      "/home/thomaz/APP_5/venv/lib/python3.12/site-packages/sklearn/utils/validation.py:2739: UserWarning: X does not have valid feature names, but LGBMClassifier was fitted with feature names\n",
      "  warnings.warn(\n",
      "/home/thomaz/APP_5/venv/lib/python3.12/site-packages/sklearn/utils/validation.py:2739: UserWarning: X does not have valid feature names, but LGBMClassifier was fitted with feature names\n",
      "  warnings.warn(\n"
     ]
    },
    {
     "name": "stdout",
     "output_type": "stream",
     "text": [
      "[CV] END stacking__final_estimator__C=1.0, stacking__final_estimator__penalty=l2, stacking__final_estimator__solver=lbfgs; total time=531.3min\n"
     ]
    },
    {
     "name": "stderr",
     "output_type": "stream",
     "text": [
      "/home/thomaz/APP_5/venv/lib/python3.12/site-packages/sklearn/utils/validation.py:2739: UserWarning: X does not have valid feature names, but LGBMClassifier was fitted with feature names\n",
      "  warnings.warn(\n"
     ]
    },
    {
     "name": "stdout",
     "output_type": "stream",
     "text": [
      "[CV] END stacking__final_estimator__C=0.1, stacking__final_estimator__penalty=l2, stacking__final_estimator__solver=lbfgs; total time=531.3min\n"
     ]
    },
    {
     "name": "stderr",
     "output_type": "stream",
     "text": [
      "/home/thomaz/APP_5/venv/lib/python3.12/site-packages/sklearn/utils/validation.py:2739: UserWarning: X does not have valid feature names, but LGBMClassifier was fitted with feature names\n",
      "  warnings.warn(\n",
      "/home/thomaz/APP_5/venv/lib/python3.12/site-packages/sklearn/utils/validation.py:2739: UserWarning: X does not have valid feature names, but LGBMClassifier was fitted with feature names\n",
      "  warnings.warn(\n"
     ]
    },
    {
     "name": "stdout",
     "output_type": "stream",
     "text": [
      "[CV] END stacking__final_estimator__C=10, stacking__final_estimator__penalty=l2, stacking__final_estimator__solver=saga; total time=531.4min\n"
     ]
    },
    {
     "name": "stderr",
     "output_type": "stream",
     "text": [
      "/home/thomaz/APP_5/venv/lib/python3.12/site-packages/sklearn/utils/validation.py:2739: UserWarning: X does not have valid feature names, but LGBMClassifier was fitted with feature names\n",
      "  warnings.warn(\n",
      "/home/thomaz/APP_5/venv/lib/python3.12/site-packages/sklearn/utils/validation.py:2739: UserWarning: X does not have valid feature names, but LGBMClassifier was fitted with feature names\n",
      "  warnings.warn(\n"
     ]
    },
    {
     "name": "stdout",
     "output_type": "stream",
     "text": [
      "[CV] END stacking__final_estimator__C=10, stacking__final_estimator__penalty=l2, stacking__final_estimator__solver=lbfgs; total time=531.4min\n"
     ]
    },
    {
     "name": "stderr",
     "output_type": "stream",
     "text": [
      "/home/thomaz/APP_5/venv/lib/python3.12/site-packages/sklearn/utils/validation.py:2739: UserWarning: X does not have valid feature names, but LGBMClassifier was fitted with feature names\n",
      "  warnings.warn(\n",
      "/home/thomaz/APP_5/venv/lib/python3.12/site-packages/sklearn/utils/validation.py:2739: UserWarning: X does not have valid feature names, but LGBMClassifier was fitted with feature names\n",
      "  warnings.warn(\n",
      "/home/thomaz/APP_5/venv/lib/python3.12/site-packages/sklearn/utils/validation.py:2739: UserWarning: X does not have valid feature names, but LGBMClassifier was fitted with feature names\n",
      "  warnings.warn(\n",
      "/home/thomaz/APP_5/venv/lib/python3.12/site-packages/sklearn/utils/validation.py:2739: UserWarning: X does not have valid feature names, but LGBMClassifier was fitted with feature names\n",
      "  warnings.warn(\n",
      "/home/thomaz/APP_5/venv/lib/python3.12/site-packages/sklearn/utils/validation.py:2739: UserWarning: X does not have valid feature names, but LGBMClassifier was fitted with feature names\n",
      "  warnings.warn(\n"
     ]
    },
    {
     "name": "stdout",
     "output_type": "stream",
     "text": [
      "[CV] END stacking__final_estimator__C=0.1, stacking__final_estimator__penalty=l2, stacking__final_estimator__solver=saga; total time=531.3min\n",
      "[CV] END stacking__final_estimator__C=1.0, stacking__final_estimator__penalty=l2, stacking__final_estimator__solver=lbfgs; total time=531.4min\n",
      "[CV] END stacking__final_estimator__C=0.1, stacking__final_estimator__penalty=l2, stacking__final_estimator__solver=saga; total time=531.4min\n"
     ]
    },
    {
     "name": "stderr",
     "output_type": "stream",
     "text": [
      "/home/thomaz/APP_5/venv/lib/python3.12/site-packages/sklearn/utils/validation.py:2739: UserWarning: X does not have valid feature names, but LGBMClassifier was fitted with feature names\n",
      "  warnings.warn(\n",
      "/home/thomaz/APP_5/venv/lib/python3.12/site-packages/sklearn/utils/validation.py:2739: UserWarning: X does not have valid feature names, but LGBMClassifier was fitted with feature names\n",
      "  warnings.warn(\n",
      "/home/thomaz/APP_5/venv/lib/python3.12/site-packages/sklearn/utils/validation.py:2739: UserWarning: X does not have valid feature names, but LGBMClassifier was fitted with feature names\n",
      "  warnings.warn(\n"
     ]
    },
    {
     "name": "stdout",
     "output_type": "stream",
     "text": [
      "[CV] END stacking__final_estimator__C=1.0, stacking__final_estimator__penalty=l2, stacking__final_estimator__solver=saga; total time=531.3min\n",
      "[LightGBM] [Info] Auto-choosing col-wise multi-threading, the overhead of testing was 0.000334 seconds.\n",
      "You can set `force_col_wise=true` to remove the overhead.\n",
      "[LightGBM] [Info] Total Bins 268\n",
      "[LightGBM] [Info] Number of data points in the train set: 2400, number of used features: 3\n",
      "[LightGBM] [Info] Start training from score -1.120091\n",
      "[LightGBM] [Info] Start training from score -1.081264\n",
      "[LightGBM] [Info] Start training from score -1.094869\n"
     ]
    },
    {
     "name": "stderr",
     "output_type": "stream",
     "text": [
      "/home/thomaz/APP_5/venv/lib/python3.12/site-packages/xgboost/training.py:183: UserWarning: [07:56:16] WARNING: /workspace/src/learner.cc:738: \n",
      "Parameters: { \"use_label_encoder\" } are not used.\n",
      "\n",
      "  bst.update(dtrain, iteration=i, fobj=obj)\n",
      "[07:56:17] WARNING: /workspace/src/learner.cc:738: \n",
      "Parameters: { \"use_label_encoder\" } are not used.\n",
      "\n",
      "[07:56:17] WARNING: /workspace/src/learner.cc:738: \n",
      "Parameters: { \"use_label_encoder\" } are not used.\n",
      "\n",
      "[07:56:17] WARNING: /workspace/src/learner.cc:738: \n",
      "Parameters: { \"use_label_encoder\" } are not used.\n",
      "\n",
      "[07:56:17] WARNING: /workspace/src/learner.cc:738: \n",
      "Parameters: { \"use_label_encoder\" } are not used.\n",
      "\n",
      "[07:56:17] WARNING: /workspace/src/learner.cc:738: \n",
      "Parameters: { \"use_label_encoder\" } are not used.\n",
      "\n"
     ]
    },
    {
     "name": "stdout",
     "output_type": "stream",
     "text": [
      "[LightGBM] [Info] Auto-choosing col-wise multi-threading, the overhead of testing was 0.001276 seconds.\n",
      "You can set `force_col_wise=true` to remove the overhead.\n",
      "[LightGBM] [Info] Total Bins 268\n",
      "[LightGBM] [Info] Number of data points in the train set: 1920, number of used features: 3\n",
      "[LightGBM] [Info] Start training from score -1.120730\n",
      "[LightGBM] [Info] Start training from score -1.081571\n",
      "[LightGBM] [Info] Start training from score -1.093936\n",
      "[LightGBM] [Info] Auto-choosing col-wise multi-threading, the overhead of testing was 0.001587 seconds.\n",
      "You can set `force_col_wise=true` to remove the overhead.\n",
      "[LightGBM] [Info] Total Bins 268\n",
      "[LightGBM] [Info] Number of data points in the train set: 1920, number of used features: 3\n",
      "[LightGBM] [Info] Auto-choosing col-wise multi-threading, the overhead of testing was 0.001043 seconds.\n",
      "You can set `force_col_wise=true` to remove the overhead.\n",
      "[LightGBM] [Info] Total Bins 267\n",
      "[LightGBM] [Info] Number of data points in the train set: 1920, number of used features: 3\n",
      "[LightGBM] [Info] Start training from score -1.120730\n",
      "[LightGBM] [Info] Start training from score -1.120730\n",
      "[LightGBM] [Info] Start training from score -1.080036\n",
      "[LightGBM] [Info] Start training from score -1.095492\n",
      "[LightGBM] [Info] Start training from score -1.081571\n",
      "[LightGBM] [Info] Start training from score -1.093936\n",
      "[LightGBM] [Info] Auto-choosing col-wise multi-threading, the overhead of testing was 0.001844 seconds.\n",
      "You can set `force_col_wise=true` to remove the overhead.\n",
      "[LightGBM] [Info] Total Bins 268\n",
      "[LightGBM] [Info] Number of data points in the train set: 1920, number of used features: 3\n",
      "[LightGBM] [Info] Start training from score -1.119134\n",
      "[LightGBM] [Info] Start training from score -1.081571\n",
      "[LightGBM] [Info] Start training from score -1.095492\n",
      "[LightGBM] [Info] Auto-choosing col-wise multi-threading, the overhead of testing was 0.001209 seconds.\n",
      "You can set `force_col_wise=true` to remove the overhead.\n",
      "[LightGBM] [Info] Total Bins 268\n",
      "[LightGBM] [Info] Number of data points in the train set: 1920, number of used features: 3\n",
      "[LightGBM] [Info] Start training from score -1.119134\n",
      "[LightGBM] [Info] Start training from score -1.081571\n",
      "[LightGBM] [Info] Start training from score -1.095492\n",
      "\n",
      "📊 Relatório de Classificação - StackingClassifier:\n",
      "              precision    recall  f1-score   support\n",
      "\n",
      "           0       0.46      0.38      0.41       217\n",
      "           1       0.33      0.38      0.35       186\n",
      "           2       0.38      0.40      0.39       197\n",
      "\n",
      "    accuracy                           0.39       600\n",
      "   macro avg       0.39      0.39      0.39       600\n",
      "weighted avg       0.39      0.39      0.39       600\n",
      "\n"
     ]
    },
    {
     "name": "stderr",
     "output_type": "stream",
     "text": [
      "/home/thomaz/APP_5/venv/lib/python3.12/site-packages/sklearn/utils/validation.py:2739: UserWarning: X does not have valid feature names, but LGBMClassifier was fitted with feature names\n",
      "  warnings.warn(\n",
      "/home/thomaz/APP_5/venv/lib/python3.12/site-packages/sklearn/utils/validation.py:2739: UserWarning: X does not have valid feature names, but LGBMClassifier was fitted with feature names\n",
      "  warnings.warn(\n",
      "/home/thomaz/APP_5/venv/lib/python3.12/site-packages/sklearn/utils/validation.py:2739: UserWarning: X does not have valid feature names, but LGBMClassifier was fitted with feature names\n",
      "  warnings.warn(\n",
      "/home/thomaz/APP_5/venv/lib/python3.12/site-packages/sklearn/utils/validation.py:2739: UserWarning: X does not have valid feature names, but LGBMClassifier was fitted with feature names\n",
      "  warnings.warn(\n",
      "/home/thomaz/APP_5/venv/lib/python3.12/site-packages/sklearn/utils/validation.py:2739: UserWarning: X does not have valid feature names, but LGBMClassifier was fitted with feature names\n",
      "  warnings.warn(\n",
      "/home/thomaz/APP_5/venv/lib/python3.12/site-packages/sklearn/utils/validation.py:2739: UserWarning: X does not have valid feature names, but LGBMClassifier was fitted with feature names\n",
      "  warnings.warn(\n"
     ]
    }
   ],
   "source": [
    "# Modelos base\n",
    "estimators = [\n",
    "    ('rf', RandomForestClassifier(class_weight='balanced', random_state=42)),\n",
    "    ('xgb', XGBClassifier(use_label_encoder=False, eval_metric='mlogloss', random_state=42)),\n",
    "    ('lgbm', LGBMClassifier(random_state=42))\n",
    "]\n",
    "\n",
    "# Meta-modelo\n",
    "meta_model = LogisticRegression(max_iter=1000, random_state=42)\n",
    "\n",
    "# Stacking Classifier\n",
    "stacking_clf = StackingClassifier(\n",
    "    estimators=estimators,\n",
    "    final_estimator=meta_model,\n",
    "    cv=5,\n",
    "    n_jobs=-1,\n",
    "    passthrough=False  # ou True se quiser incluir as features originais no meta-modelo\n",
    ")\n",
    "\n",
    "# Pipeline completo\n",
    "pipeline_stacking = Pipeline([\n",
    "    ('scaler', StandardScaler()),\n",
    "    ('stacking', stacking_clf)\n",
    "])\n",
    "\n",
    "# Parâmetros para GridSearchCV (focando no meta-modelo)\n",
    "param_grid = {\n",
    "    'stacking__final_estimator__C': [0.1, 1.0, 10],\n",
    "    'stacking__final_estimator__penalty': ['l2'],\n",
    "    'stacking__final_estimator__solver': ['lbfgs', 'saga']\n",
    "}\n",
    "\n",
    "# GridSearchCV\n",
    "grid = GridSearchCV(\n",
    "    pipeline_stacking,\n",
    "    param_grid=param_grid,\n",
    "    cv=3,\n",
    "    scoring='f1_weighted',\n",
    "    n_jobs=-1,\n",
    "    verbose=2\n",
    ")\n",
    "\n",
    "# Treinar\n",
    "grid.fit(X_train, y_train)\n",
    "\n",
    "# Avaliar\n",
    "y_pred = grid.predict(X_test)\n",
    "print(\"\\n📊 Relatório de Classificação - StackingClassifier:\")\n",
    "print(classification_report(y_test, y_pred))"
   ]
  },
  {
   "cell_type": "code",
   "execution_count": 230,
   "id": "4be45c70",
   "metadata": {},
   "outputs": [
    {
     "name": "stdout",
     "output_type": "stream",
     "text": [
      "              precision    recall  f1-score   support\n",
      "\n",
      "           0       0.43      0.39      0.41       217\n",
      "           1       0.37      0.39      0.38       186\n",
      "           2       0.38      0.39      0.39       197\n",
      "\n",
      "    accuracy                           0.39       600\n",
      "   macro avg       0.39      0.39      0.39       600\n",
      "weighted avg       0.39      0.39      0.39       600\n",
      "\n"
     ]
    }
   ],
   "source": [
    "print(classification_report(y_test, y_pred))"
   ]
  },
  {
   "cell_type": "code",
   "execution_count": 234,
   "id": "a7a6ab1e",
   "metadata": {},
   "outputs": [
    {
     "data": {
      "text/plain": [
       "['data/modelos/modelo_stacking.pkl']"
      ]
     },
     "execution_count": 234,
     "metadata": {},
     "output_type": "execute_result"
    }
   ],
   "source": [
    "grid_search_rf\n",
    "joblib.dump(grid_search_rf, 'data/modelos/modelo_stacking.pkl')"
   ]
  },
  {
   "cell_type": "code",
   "execution_count": 14,
   "id": "9907cfaa",
   "metadata": {},
   "outputs": [
    {
     "data": {
      "text/html": [
       "<div>\n",
       "<style scoped>\n",
       "    .dataframe tbody tr th:only-of-type {\n",
       "        vertical-align: middle;\n",
       "    }\n",
       "\n",
       "    .dataframe tbody tr th {\n",
       "        vertical-align: top;\n",
       "    }\n",
       "\n",
       "    .dataframe thead th {\n",
       "        text-align: right;\n",
       "    }\n",
       "</style>\n",
       "<table border=\"1\" class=\"dataframe\">\n",
       "  <thead>\n",
       "    <tr style=\"text-align: right;\">\n",
       "      <th></th>\n",
       "      <th>similaridade_cv_competencias</th>\n",
       "      <th>similaridade_cv_atividades</th>\n",
       "      <th>avaliador_idioma_ingles</th>\n",
       "      <th>avaliador_idioma_espanhol</th>\n",
       "      <th>situacao_candidado_avaliador</th>\n",
       "      <th>similaridade</th>\n",
       "    </tr>\n",
       "  </thead>\n",
       "  <tbody>\n",
       "    <tr>\n",
       "      <th>33</th>\n",
       "      <td>0.069556</td>\n",
       "      <td>0.037299</td>\n",
       "      <td>0.50000</td>\n",
       "      <td>1.0</td>\n",
       "      <td>alto</td>\n",
       "      <td>0.037299</td>\n",
       "    </tr>\n",
       "    <tr>\n",
       "      <th>55</th>\n",
       "      <td>0.060914</td>\n",
       "      <td>0.060914</td>\n",
       "      <td>0.25000</td>\n",
       "      <td>1.0</td>\n",
       "      <td>alto</td>\n",
       "      <td>0.060914</td>\n",
       "    </tr>\n",
       "    <tr>\n",
       "      <th>59</th>\n",
       "      <td>0.078220</td>\n",
       "      <td>0.078220</td>\n",
       "      <td>0.12500</td>\n",
       "      <td>1.0</td>\n",
       "      <td>alto</td>\n",
       "      <td>0.07822</td>\n",
       "    </tr>\n",
       "    <tr>\n",
       "      <th>64</th>\n",
       "      <td>0.083174</td>\n",
       "      <td>0.083174</td>\n",
       "      <td>0.03125</td>\n",
       "      <td>1.0</td>\n",
       "      <td>alto</td>\n",
       "      <td>0.083174</td>\n",
       "    </tr>\n",
       "    <tr>\n",
       "      <th>67</th>\n",
       "      <td>0.106975</td>\n",
       "      <td>0.106975</td>\n",
       "      <td>0.12500</td>\n",
       "      <td>1.0</td>\n",
       "      <td>alto</td>\n",
       "      <td>0.106975</td>\n",
       "    </tr>\n",
       "    <tr>\n",
       "      <th>...</th>\n",
       "      <td>...</td>\n",
       "      <td>...</td>\n",
       "      <td>...</td>\n",
       "      <td>...</td>\n",
       "      <td>...</td>\n",
       "      <td>...</td>\n",
       "    </tr>\n",
       "    <tr>\n",
       "      <th>56462</th>\n",
       "      <td>0.024075</td>\n",
       "      <td>-0.005898</td>\n",
       "      <td>0.50000</td>\n",
       "      <td>0.5</td>\n",
       "      <td>alto</td>\n",
       "      <td>-0.005898</td>\n",
       "    </tr>\n",
       "    <tr>\n",
       "      <th>56466</th>\n",
       "      <td>0.024075</td>\n",
       "      <td>-0.005898</td>\n",
       "      <td>0.50000</td>\n",
       "      <td>0.5</td>\n",
       "      <td>alto</td>\n",
       "      <td>-0.005898</td>\n",
       "    </tr>\n",
       "    <tr>\n",
       "      <th>56490</th>\n",
       "      <td>0.082033</td>\n",
       "      <td>0.082033</td>\n",
       "      <td>0.06250</td>\n",
       "      <td>1.0</td>\n",
       "      <td>alto</td>\n",
       "      <td>0.082033</td>\n",
       "    </tr>\n",
       "    <tr>\n",
       "      <th>56499</th>\n",
       "      <td>0.051174</td>\n",
       "      <td>-0.015143</td>\n",
       "      <td>0.12500</td>\n",
       "      <td>0.5</td>\n",
       "      <td>alto</td>\n",
       "      <td>-0.015143</td>\n",
       "    </tr>\n",
       "    <tr>\n",
       "      <th>56512</th>\n",
       "      <td>0.149605</td>\n",
       "      <td>-0.005373</td>\n",
       "      <td>0.50000</td>\n",
       "      <td>0.5</td>\n",
       "      <td>alto</td>\n",
       "      <td>-0.005373</td>\n",
       "    </tr>\n",
       "  </tbody>\n",
       "</table>\n",
       "<p>4627 rows × 6 columns</p>\n",
       "</div>"
      ],
      "text/plain": [
       "       similaridade_cv_competencias  similaridade_cv_atividades  \\\n",
       "33                         0.069556                    0.037299   \n",
       "55                         0.060914                    0.060914   \n",
       "59                         0.078220                    0.078220   \n",
       "64                         0.083174                    0.083174   \n",
       "67                         0.106975                    0.106975   \n",
       "...                             ...                         ...   \n",
       "56462                      0.024075                   -0.005898   \n",
       "56466                      0.024075                   -0.005898   \n",
       "56490                      0.082033                    0.082033   \n",
       "56499                      0.051174                   -0.015143   \n",
       "56512                      0.149605                   -0.005373   \n",
       "\n",
       "       avaliador_idioma_ingles  avaliador_idioma_espanhol  \\\n",
       "33                     0.50000                        1.0   \n",
       "55                     0.25000                        1.0   \n",
       "59                     0.12500                        1.0   \n",
       "64                     0.03125                        1.0   \n",
       "67                     0.12500                        1.0   \n",
       "...                        ...                        ...   \n",
       "56462                  0.50000                        0.5   \n",
       "56466                  0.50000                        0.5   \n",
       "56490                  0.06250                        1.0   \n",
       "56499                  0.12500                        0.5   \n",
       "56512                  0.50000                        0.5   \n",
       "\n",
       "      situacao_candidado_avaliador similaridade  \n",
       "33                            alto     0.037299  \n",
       "55                            alto     0.060914  \n",
       "59                            alto      0.07822  \n",
       "64                            alto     0.083174  \n",
       "67                            alto     0.106975  \n",
       "...                            ...          ...  \n",
       "56462                         alto    -0.005898  \n",
       "56466                         alto    -0.005898  \n",
       "56490                         alto     0.082033  \n",
       "56499                         alto    -0.015143  \n",
       "56512                         alto    -0.005373  \n",
       "\n",
       "[4627 rows x 6 columns]"
      ]
     },
     "execution_count": 14,
     "metadata": {},
     "output_type": "execute_result"
    }
   ],
   "source": [
    "data.loc[data['situacao_candidado_avaliador'] == 'alto']"
   ]
  },
  {
   "cell_type": "code",
   "execution_count": 15,
   "id": "ea93a8a5",
   "metadata": {},
   "outputs": [
    {
     "data": {
      "text/html": [
       "<div>\n",
       "<style scoped>\n",
       "    .dataframe tbody tr th:only-of-type {\n",
       "        vertical-align: middle;\n",
       "    }\n",
       "\n",
       "    .dataframe tbody tr th {\n",
       "        vertical-align: top;\n",
       "    }\n",
       "\n",
       "    .dataframe thead th {\n",
       "        text-align: right;\n",
       "    }\n",
       "</style>\n",
       "<table border=\"1\" class=\"dataframe\">\n",
       "  <thead>\n",
       "    <tr style=\"text-align: right;\">\n",
       "      <th></th>\n",
       "      <th>similaridade</th>\n",
       "      <th>avaliador_idioma_ingles</th>\n",
       "      <th>avaliador_idioma_espanhol</th>\n",
       "    </tr>\n",
       "  </thead>\n",
       "  <tbody>\n",
       "    <tr>\n",
       "      <th>45577</th>\n",
       "      <td>0.091137</td>\n",
       "      <td>0.500</td>\n",
       "      <td>0.5</td>\n",
       "    </tr>\n",
       "    <tr>\n",
       "      <th>30514</th>\n",
       "      <td>0.015254</td>\n",
       "      <td>1.000</td>\n",
       "      <td>1.0</td>\n",
       "    </tr>\n",
       "    <tr>\n",
       "      <th>23584</th>\n",
       "      <td>0.07959</td>\n",
       "      <td>1.000</td>\n",
       "      <td>1.0</td>\n",
       "    </tr>\n",
       "    <tr>\n",
       "      <th>47566</th>\n",
       "      <td>0.09122</td>\n",
       "      <td>1.000</td>\n",
       "      <td>1.0</td>\n",
       "    </tr>\n",
       "    <tr>\n",
       "      <th>45483</th>\n",
       "      <td>0.036322</td>\n",
       "      <td>1.000</td>\n",
       "      <td>1.0</td>\n",
       "    </tr>\n",
       "    <tr>\n",
       "      <th>...</th>\n",
       "      <td>...</td>\n",
       "      <td>...</td>\n",
       "      <td>...</td>\n",
       "    </tr>\n",
       "    <tr>\n",
       "      <th>16923</th>\n",
       "      <td>-0.024306</td>\n",
       "      <td>0.125</td>\n",
       "      <td>0.5</td>\n",
       "    </tr>\n",
       "    <tr>\n",
       "      <th>5936</th>\n",
       "      <td>-0.0372</td>\n",
       "      <td>0.500</td>\n",
       "      <td>0.5</td>\n",
       "    </tr>\n",
       "    <tr>\n",
       "      <th>1927</th>\n",
       "      <td>-0.007223</td>\n",
       "      <td>0.500</td>\n",
       "      <td>1.0</td>\n",
       "    </tr>\n",
       "    <tr>\n",
       "      <th>48877</th>\n",
       "      <td>0.090499</td>\n",
       "      <td>0.125</td>\n",
       "      <td>1.0</td>\n",
       "    </tr>\n",
       "    <tr>\n",
       "      <th>25651</th>\n",
       "      <td>0.106753</td>\n",
       "      <td>1.000</td>\n",
       "      <td>1.0</td>\n",
       "    </tr>\n",
       "  </tbody>\n",
       "</table>\n",
       "<p>2400 rows × 3 columns</p>\n",
       "</div>"
      ],
      "text/plain": [
       "      similaridade  avaliador_idioma_ingles  avaliador_idioma_espanhol\n",
       "45577     0.091137                    0.500                        0.5\n",
       "30514     0.015254                    1.000                        1.0\n",
       "23584      0.07959                    1.000                        1.0\n",
       "47566      0.09122                    1.000                        1.0\n",
       "45483     0.036322                    1.000                        1.0\n",
       "...            ...                      ...                        ...\n",
       "16923    -0.024306                    0.125                        0.5\n",
       "5936       -0.0372                    0.500                        0.5\n",
       "1927     -0.007223                    0.500                        1.0\n",
       "48877     0.090499                    0.125                        1.0\n",
       "25651     0.106753                    1.000                        1.0\n",
       "\n",
       "[2400 rows x 3 columns]"
      ]
     },
     "execution_count": 15,
     "metadata": {},
     "output_type": "execute_result"
    }
   ],
   "source": [
    "X_train"
   ]
  },
  {
   "cell_type": "code",
   "execution_count": null,
   "id": "4ee0a156",
   "metadata": {},
   "outputs": [],
   "source": []
  }
 ],
 "metadata": {
  "kernelspec": {
   "display_name": "venv",
   "language": "python",
   "name": "python3"
  },
  "language_info": {
   "codemirror_mode": {
    "name": "ipython",
    "version": 3
   },
   "file_extension": ".py",
   "mimetype": "text/x-python",
   "name": "python",
   "nbconvert_exporter": "python",
   "pygments_lexer": "ipython3",
   "version": "3.12.3"
  }
 },
 "nbformat": 4,
 "nbformat_minor": 5
}
